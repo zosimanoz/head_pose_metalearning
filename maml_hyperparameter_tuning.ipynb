{
  "cells": [
    {
      "cell_type": "markdown",
      "metadata": {
        "id": "view-in-github",
        "colab_type": "text"
      },
      "source": [
        "<a href=\"https://colab.research.google.com/github/zosimanoz/head_pose_metalearning/blob/master/maml_hyperparameter_tuning.ipynb\" target=\"_parent\"><img src=\"https://colab.research.google.com/assets/colab-badge.svg\" alt=\"Open In Colab\"/></a>"
      ]
    },
    {
      "cell_type": "code",
      "execution_count": null,
      "metadata": {
        "colab": {
          "base_uri": "https://localhost:8080/"
        },
        "id": "SnALj7uxY6XZ",
        "outputId": "2b508335-637f-4988-9db3-e75a87cea750"
      },
      "outputs": [
        {
          "output_type": "stream",
          "name": "stdout",
          "text": [
            "Drive already mounted at /content/drive/; to attempt to forcibly remount, call drive.mount(\"/content/drive/\", force_remount=True).\n"
          ]
        }
      ],
      "source": [
        "from google.colab import drive\n",
        "drive.mount('/content/drive/')"
      ]
    },
    {
      "cell_type": "code",
      "execution_count": null,
      "metadata": {
        "id": "7gimLPniY7jj"
      },
      "outputs": [],
      "source": [
        "import os\n",
        "os.chdir(\"/content/drive/My Drive/hpemaml/\")"
      ]
    },
    {
      "cell_type": "code",
      "execution_count": null,
      "metadata": {
        "id": "XxDTL5ITbXbK"
      },
      "outputs": [],
      "source": [
        "import json\n",
        "import os\n",
        "import random\n",
        "import urllib.request\n",
        "from collections import defaultdict\n",
        "from copy import deepcopy\n",
        "from statistics import mean, stdev\n",
        "from urllib.error import HTTPError\n",
        "\n",
        "import matplotlib\n",
        "import matplotlib.pyplot as plt\n",
        "import numpy as np\n",
        "import seaborn as sns\n",
        "import torch\n",
        "import torch.nn.functional as F\n",
        "import torch.optim as optim\n",
        "import torch.utils.data as data\n",
        "import torchvision\n",
        "from IPython.display import set_matplotlib_formats\n",
        "from PIL import Image\n",
        "from torchvision import transforms\n",
        "from torchvision.datasets import CIFAR100, SVHN\n",
        "from tqdm.auto import tqdm"
      ]
    },
    {
      "cell_type": "code",
      "execution_count": null,
      "metadata": {
        "id": "qyY6fdlUZthG",
        "colab": {
          "base_uri": "https://localhost:8080/",
          "height": 148
        },
        "outputId": "b6bde077-4430-48d1-c1ed-a171cea18e3e"
      },
      "outputs": [
        {
          "output_type": "execute_result",
          "data": {
            "application/vnd.google.colaboratory.intrinsic+json": {
              "type": "string"
            },
            "text/plain": [
              "'1.4.5'"
            ]
          },
          "metadata": {},
          "execution_count": 4
        }
      ],
      "source": [
        "# PyTorch Lightning\n",
        "\n",
        "try:\n",
        "    import pytorch_lightning as pl\n",
        "except ModuleNotFoundError: # Google Colab does not have PyTorch Lightning installed by default. Hence, we do it here if necessary\n",
        "    !pip install pytorch-lightning=1.4.5\n",
        "    import pytorch_lightning as pl\n",
        "from pytorch_lightning.callbacks import LearningRateMonitor, ModelCheckpoint\n",
        "\n",
        "# Import tensorboard\n",
        "%load_ext tensorboard\n",
        "\n",
        "pl.__version__"
      ]
    },
    {
      "cell_type": "code",
      "execution_count": null,
      "metadata": {
        "id": "Ncpryb224AX1"
      },
      "outputs": [],
      "source": [
        "CHECKPOINT_PATH = \"../final_maml_head_pose_checkpoint\""
      ]
    },
    {
      "cell_type": "code",
      "execution_count": null,
      "metadata": {
        "id": "c0bad2d9"
      },
      "outputs": [],
      "source": [
        "class FewShotBatchSampler:\n",
        "    def __init__(self,dataset_targets, N_way, K_shot, include_query=False, shuffle=True, shuffle_once=False):\n",
        "        super().__init__()\n",
        "        self.dataset_targets = torch.tensor(dataset_targets)\n",
        "        self.N_way = N_way\n",
        "        self.K_shot = K_shot\n",
        "        self.shuffle = shuffle\n",
        "        self.include_query = include_query\n",
        "        if self.include_query:\n",
        "            self.K_shot *= 2\n",
        "        self.batch_size = self.N_way * self.K_shot  # Number of overall images per batch\n",
        "\n",
        "        # Organize examples by class\n",
        "        self.classes = torch.unique(self.dataset_targets).tolist()\n",
        "        self.num_classes = len(self.classes)\n",
        "        self.indices_per_class = {}\n",
        "        self.batches_per_class = {}  # Number of K-shot batches that each class can provide\n",
        "        for c in self.classes:\n",
        "            self.indices_per_class[c] = torch.where(self.dataset_targets == c)[0]\n",
        "            self.batches_per_class[c] = self.indices_per_class[c].shape[0] // self.K_shot\n",
        "\n",
        "        # Create a list of classes from which we select the N classes per batch\n",
        "        self.iterations = sum(self.batches_per_class.values()) // self.N_way\n",
        "        self.class_list = [c for c in self.classes for _ in range(self.batches_per_class[c])]\n",
        "        if shuffle_once or self.shuffle:\n",
        "            self.shuffle_data()\n",
        "        else:\n",
        "            # For testing, we iterate over classes instead of shuffling them\n",
        "            sort_idxs = [\n",
        "                i + p * self.num_classes for i, c in enumerate(self.classes) for p in range(self.batches_per_class[c])\n",
        "            ]\n",
        "            self.class_list = np.array(self.class_list)[np.argsort(sort_idxs)].tolist()\n",
        "\n",
        "    def shuffle_data(self):\n",
        "        # Shuffle the examples per class\n",
        "        for c in self.classes:\n",
        "            perm = torch.randperm(self.indices_per_class[c].shape[0])\n",
        "            self.indices_per_class[c] = self.indices_per_class[c][perm]\n",
        "        # Shuffle the class list from which we sample. Note that this way of shuffling\n",
        "        # does not prevent to choose the same class twice in a batch. However, for\n",
        "        # training and validation, this is not a problem.\n",
        "        random.shuffle(self.class_list)\n",
        "\n",
        "    def __iter__(self):\n",
        "        # Shuffle data\n",
        "        if self.shuffle:\n",
        "            self.shuffle_data()\n",
        "\n",
        "        # Sample few-shot batches\n",
        "        start_index = defaultdict(int)\n",
        "        for it in range(self.iterations):\n",
        "            class_batch = self.class_list[it * self.N_way : (it + 1) * self.N_way]  # Select N classes for the batch\n",
        "            index_batch = []\n",
        "            for c in class_batch:  # For each class, select the next K examples and add them to the batch\n",
        "                index_batch.extend(self.indices_per_class[c][start_index[c] : start_index[c] + self.K_shot])\n",
        "                start_index[c] += self.K_shot\n",
        "            if self.include_query:  # If we return support+query set, sort them so that they are easy to split\n",
        "                index_batch = index_batch[::2] + index_batch[1::2]\n",
        "            yield index_batch\n",
        "\n",
        "    def __len__(self):\n",
        "        return self.iterations"
      ]
    },
    {
      "cell_type": "code",
      "execution_count": null,
      "metadata": {
        "id": "FJtcAiPrcG8Z"
      },
      "outputs": [],
      "source": [
        "class TaskBatchSampler(object):\n",
        "\n",
        "    def __init__(self, dataset_targets, batch_size, N_way, K_shot, include_query=False, shuffle=True):\n",
        "        super().__init__()\n",
        "        self.batch_sampler = FewShotBatchSampler(dataset_targets, N_way, K_shot, include_query, shuffle)\n",
        "        self.task_batch_size = batch_size\n",
        "        self.local_batch_size = self.batch_sampler.batch_size\n",
        "\n",
        "    def __iter__(self):\n",
        "        # Aggregate multiple batches before returning the indices\n",
        "        batch_list = []\n",
        "        for batch_idx, batch in enumerate(self.batch_sampler):\n",
        "            batch_list.extend(batch)\n",
        "            if (batch_idx+1) % self.task_batch_size == 0:\n",
        "                yield batch_list\n",
        "                batch_list = []\n",
        "\n",
        "    def __len__(self):\n",
        "        return len(self.batch_sampler)//self.task_batch_size\n",
        "\n",
        "    def get_collate_fn(self):\n",
        "        # Returns a collate function that converts one big tensor into a list of task-specific tensors\n",
        "        def collate_fn(item_list):\n",
        "            imgs = torch.stack([torch.from_numpy(img) for img, gt, folder, target in item_list], dim=0)\n",
        "            targets = torch.stack([torch.from_numpy(np.fromstring(target, dtype=int, sep=' ')) for img, gt, folder, target in item_list], dim=0)\n",
        "            yprAnglesGt = torch.stack([torch.from_numpy(gt) for img, gt, folder, target in item_list], dim=0)\n",
        "\n",
        "            imgs = imgs.chunk(self.task_batch_size, dim=0)\n",
        "            targets = targets.chunk(self.task_batch_size, dim=0)\n",
        "            yprAnglesGt = yprAnglesGt.chunk(self.task_batch_size, dim=0)\n",
        "\n",
        "\n",
        "            return list(zip(imgs, targets, yprAnglesGt))\n",
        "        return collate_fn"
      ]
    },
    {
      "cell_type": "code",
      "execution_count": null,
      "metadata": {
        "colab": {
          "base_uri": "https://localhost:8080/"
        },
        "id": "GKdcaIKkbXkP",
        "outputId": "8150d2d6-3aec-4868-d922-4cfaeab8029d"
      },
      "outputs": [
        {
          "output_type": "stream",
          "name": "stderr",
          "text": [
            "/usr/local/lib/python3.7/dist-packages/ipykernel_launcher.py:10: VisibleDeprecationWarning: Creating an ndarray from ragged nested sequences (which is a list-or-tuple of lists-or-tuples-or ndarrays with different lengths or shapes) is deprecated. If you meant to do this, you must specify 'dtype=object' when creating the ndarray\n",
            "  # Remove the CWD from sys.path while we load stuff.\n"
          ]
        }
      ],
      "source": [
        "filename = 'trained_models/embeddings_full.npz'\n",
        "n_embeddings = np.load(filename, allow_pickle=True)\n",
        "arr = n_embeddings['arr_0']\n",
        "classes = [str(i).zfill(2) for i in range(1,21)]\n",
        "n_arr = []\n",
        "for i in range(arr.shape[0]):\n",
        "  a = arr[i]\n",
        "  for j in classes:\n",
        "    if a[2][13:15] == j:\n",
        "      li = np.array([arr[i][0],arr[i][1],arr[i][2], j])\n",
        "  n_arr.append(li)\n",
        "n_arr = np.array(n_arr)"
      ]
    },
    {
      "cell_type": "code",
      "execution_count": null,
      "metadata": {
        "id": "KyuS4H0Pda3q"
      },
      "outputs": [],
      "source": [
        "classes = [str(i).zfill(2) for i in range(1,21)]"
      ]
    },
    {
      "cell_type": "code",
      "execution_count": null,
      "metadata": {
        "colab": {
          "base_uri": "https://localhost:8080/"
        },
        "id": "V9dTTDR1nQ70",
        "outputId": "9b03016e-831e-4d3c-d91c-20f6c6216a96"
      },
      "outputs": [
        {
          "output_type": "stream",
          "name": "stdout",
          "text": [
            "(10581, 4)\n",
            "(2638, 4)\n"
          ]
        }
      ],
      "source": [
        "# use first 15 person as training and rest 5 person as test\n",
        "\n",
        "train_set = []\n",
        "val_set = []\n",
        "\n",
        "for i in range(n_arr.shape[0]):\n",
        "  if int(n_arr[i][3]) <= 15:\n",
        "    train_set.append(n_arr[i])\n",
        "  else:\n",
        "    val_set.append(n_arr[i])\n",
        "\n",
        "train_set_n = np.array(train_set)\n",
        "val_set_n = np.array(val_set)\n",
        "\n",
        "print(train_set_n.shape)\n",
        "print(val_set_n.shape)\n",
        "\n",
        "# get classes of train and test set\n",
        "train_targets = []\n",
        "val_targets = []\n",
        "for i in range(train_set_n.shape[0]):\n",
        "    train_targets.append(int(train_set_n[i][3]))\n",
        "for i in range(val_set_n.shape[0]):\n",
        "    val_targets.append(int(val_set_n[i][3]))"
      ]
    },
    {
      "cell_type": "code",
      "execution_count": null,
      "metadata": {
        "id": "gjijTV39HZMc"
      },
      "outputs": [],
      "source": [
        "# Training constant\n",
        "N_WAY = 5\n",
        "K_SHOT = 1\n",
        "\n",
        "# Training set\n",
        "train_maml_sampler = TaskBatchSampler(train_targets,\n",
        "                                           include_query=True,\n",
        "                                           N_way=N_WAY,\n",
        "                                           K_shot=K_SHOT,\n",
        "                                           batch_size=16)\n",
        "train_maml_loader = data.DataLoader(train_set,\n",
        "                                         batch_sampler=train_maml_sampler,\n",
        "                                         collate_fn=train_maml_sampler.get_collate_fn(),\n",
        "                                         num_workers=2)\n",
        "\n",
        "# Validation set\n",
        "val_maml_sampler = TaskBatchSampler(val_targets,\n",
        "                                         include_query=True,\n",
        "                                         N_way=N_WAY,\n",
        "                                         K_shot=K_SHOT,\n",
        "                                         batch_size=1,  # We do not update the parameters, hence the batch size is irrelevant here\n",
        "                                         shuffle=False)\n",
        "val_maml_loader = data.DataLoader(val_set,\n",
        "                                       batch_sampler=val_maml_sampler,\n",
        "                                       collate_fn=val_maml_sampler.get_collate_fn(),\n",
        "                                       num_workers=2)"
      ]
    },
    {
      "cell_type": "code",
      "execution_count": null,
      "metadata": {
        "id": "BJuNiZNGdaTj"
      },
      "outputs": [],
      "source": [
        "import torch\n",
        "import torch.nn as nn\n",
        "\n",
        "class NetSimple(nn.Module):\n",
        "    def __init__(self, num_feature=200, num_hidden=1000, num_output=3):\n",
        "        super(NetSimple, self).__init__()\n",
        "\n",
        "        self.num_feature = num_feature\n",
        "        self.num_hidden = num_hidden\n",
        "        self.num_output = num_output\n",
        "        \n",
        "        self.linear1 = nn.Sequential(\n",
        "            torch.nn.Linear(self.num_feature, self.num_hidden),\n",
        "            torch.nn.Dropout(p=0.25),\n",
        "            torch.nn.LeakyReLU(0.1),\n",
        "            torch.nn.BatchNorm1d(self.num_hidden, eps=1e-05, momentum=0.01, affine=True)\n",
        "        )\n",
        "\n",
        "        self.linear2 = nn.Sequential(\n",
        "            torch.nn.Linear(self.num_hidden, 1000),\n",
        "            torch.nn.Dropout(p=0.25),\n",
        "            torch.nn.LeakyReLU(0.1),\n",
        "            torch.nn.BatchNorm1d(1000, eps=1e-05, momentum=0.01, affine=True)\n",
        "        )\n",
        "\n",
        "        self.linear3 = nn.Sequential(\n",
        "            torch.nn.Linear(1000, 1000),\n",
        "            torch.nn.Dropout(p=0.25),\n",
        "            torch.nn.LeakyReLU(0.1),\n",
        "            torch.nn.BatchNorm1d(1000, eps=1e-05, momentum=0.01, affine=True)\n",
        "        )\n",
        "\n",
        "        self.linear4 = nn.Sequential(\n",
        "            torch.nn.Linear(1000, 1000),\n",
        "            torch.nn.Dropout(p=0.25),\n",
        "            torch.nn.LeakyReLU(0.1),\n",
        "            torch.nn.BatchNorm1d(1000, eps=1e-05, momentum=0.01, affine=True)\n",
        "        )\n",
        "        \n",
        "        self.output = nn.Sequential(\n",
        "            torch.nn.Linear(1000, self.num_output),\n",
        "        )\n",
        "\n",
        "    def forward(self, x):\n",
        "        var_size = x.data.shape[0]\n",
        "        x = self.linear1(x)\n",
        "        x = self.linear2(x)\n",
        "        x = self.linear3(x)\n",
        "        x = self.linear4(x)\n",
        "        x = self.output(x)\n",
        "        return x"
      ]
    },
    {
      "cell_type": "code",
      "execution_count": null,
      "metadata": {
        "id": "bZYRAL6Md911"
      },
      "outputs": [],
      "source": [
        "def split_batch(imgs, targets, yprAngles):\n",
        "    support_imgs, query_imgs = imgs.chunk(2, dim=0)\n",
        "    support_targets, query_targets = targets.chunk(2, dim=0)\n",
        "    support_gt, query_gt = yprAngles.chunk(2, dim=0)\n",
        "    return support_imgs, query_imgs, support_targets, query_targets, support_gt, query_gt"
      ]
    },
    {
      "cell_type": "code",
      "execution_count": null,
      "metadata": {
        "id": "jRePi9m8XRM9"
      },
      "outputs": [],
      "source": [
        "class MAMLNetwork(pl.LightningModule):\n",
        "\n",
        "    def __init__(self, config):\n",
        "        \"\"\"\n",
        "        Inputs\n",
        "            lr - Learning rate of the outer loop Adam optimizer\n",
        "            lr_inner - Learning rate of the inner loop SGD optimizer\n",
        "            lr_output - Learning rate for the output layer in the inner loop\n",
        "            num_inner_steps - Number of inner loop updates to perform\n",
        "        \"\"\"\n",
        "        super().__init__()\n",
        "        self.save_hyperparameters()\n",
        "        # self.model = Net()\n",
        "        self.model = NetSimple()\n",
        "        self.lr = config[\"lr\"]\n",
        "        self.lr_inner = config[\"lr_inner\"]\n",
        "        self.num_inner_steps = config[\"num_inner_steps\"]\n",
        "\n",
        "        self.mse_criterion = nn.MSELoss()\n",
        "        self.mae_criterion = nn.L1Loss()\n",
        "        self.training_losses = []\n",
        "        self.val_losses = []\n",
        "\n",
        "\n",
        "    def configure_optimizers(self):\n",
        "        optimizer = optim.SGD(self.parameters(), lr=self.lr)\n",
        "        scheduler = optim.lr_scheduler.MultiStepLR(optimizer, milestones=[140,180], gamma=0.1)\n",
        "        return [optimizer], [scheduler]\n",
        "\n",
        "    def run_model(self, local_model, imgs, support_gt):\n",
        "        # Execute a model with given output layer weights and inputs\n",
        "        preds = local_model(imgs)\n",
        "        loss = self.mae_criterion(preds.float(), support_gt.float())\n",
        "        loss_y = self.mae_criterion(preds[0][0].float(), support_gt[0][0].float())\n",
        "        loss_p = self.mae_criterion(preds[0][1].float(), support_gt[0][1].float())\n",
        "        loss_r = self.mae_criterion(preds[0][2].float(), support_gt[0][2].float())\n",
        "        return loss, preds, loss_y, loss_p, loss_r\n",
        "\n",
        "    def predict_single(self, imgs, support_gt):\n",
        "        local_model = deepcopy(self.model)\n",
        "        local_model.train()\n",
        "        local_optim = optim.SGD(local_model.parameters(), lr=self.lr_inner)\n",
        "        local_optim.zero_grad()\n",
        "        angles=[]\n",
        "        for i in range(5):\n",
        "            loss, pred, loss_y, loss_p, loss_r = self.run_model(local_model, imgs, support_gt)\n",
        "            # backpropagate\n",
        "            loss.backward()\n",
        "            local_optim.step()\n",
        "            # Reset gradients\n",
        "            local_optim.zero_grad()\n",
        "            \n",
        "        return pred \n",
        "\n",
        "    def adapt_few_shot(self, support_imgs, support_targets, support_gt):\n",
        "\n",
        "        # Create inner-loop model and optimizer\n",
        "        local_model = deepcopy(self.model)\n",
        "        local_model.train()\n",
        "        local_optim = optim.SGD(local_model.parameters(), lr=self.lr_inner)\n",
        "        local_optim.zero_grad()\n",
        "\n",
        "        \n",
        "        # Optimize inner loop model on support set\n",
        "        for _ in range(self.num_inner_steps):\n",
        "            # Determine loss on the support set\n",
        "            loss, pred, loss_y, loss_p, loss_r = self.run_model(local_model, support_imgs, support_gt)\n",
        "            # Calculate gradients and perform inner loop update\n",
        "            \n",
        "            loss.backward()\n",
        "            local_optim.step()\n",
        "           \n",
        "            # Reset gradients\n",
        "            local_optim.zero_grad()\n",
        "\n",
        "        return local_model\n",
        "\n",
        "    def outer_loop(self, batch, mode=\"train\"):\n",
        "        \n",
        "        accuracies = []\n",
        "        losses = []\n",
        "        losses_y = []\n",
        "        losses_p = []\n",
        "        losses_r = []\n",
        "\n",
        "        self.model.zero_grad()\n",
        "\n",
        "        # Determine gradients for batch of tasks\n",
        "        for task_batch in batch:\n",
        "            imgs, targets, yprAngles = task_batch\n",
        "            support_imgs, query_imgs, support_targets, query_targets, support_gt, query_gt = split_batch(imgs, targets, yprAngles)\n",
        "            \n",
        "            # Perform inner loop adaptation\n",
        "            local_model = self.adapt_few_shot(support_imgs, support_targets, support_gt)\n",
        "            \n",
        "            # Determine loss of query set\n",
        "            loss, preds, loss_y, loss_p, loss_r = self.run_model(local_model, query_imgs, query_gt)\n",
        "            \n",
        "            # Calculate gradients for query set loss\n",
        "            if mode == \"train\":\n",
        "                loss.backward()\n",
        "\n",
        "                for p_global, p_local in zip(self.model.parameters(), local_model.parameters()):\n",
        "                    p_global.grad = p_local.grad  # First-order approx. -> add gradients of finetuned and base model\n",
        "\n",
        "            # accuracies.append(acc.mean().detach())\n",
        "            losses.append(loss.detach())\n",
        "            losses_y.append(loss_y.detach())\n",
        "            losses_p.append(loss_p.detach())\n",
        "            losses_r.append(loss_r.detach())\n",
        "            \n",
        "        # Perform update of base model\n",
        "        if mode == \"train\":\n",
        "            opt = self.optimizers()\n",
        "            opt.step()\n",
        "            opt.zero_grad()\n",
        "\n",
        "        self.log(f\"{mode}_loss\", sum(losses) / len(losses), on_epoch=True)\n",
        "        self.log(f\"{mode}_loss_y\", sum(losses_y) / len(losses_y), on_epoch=True)\n",
        "        self.log(f\"{mode}_loss_p\", sum(losses_p) / len(losses_p), on_epoch=True)\n",
        "        self.log(f\"{mode}_loss_r\", sum(losses_r) / len(losses_r), on_epoch=True)\n",
        "\n",
        "    def training_step(self, batch, batch_idx):\n",
        "        loss = self.outer_loop(batch, mode=\"train\")\n",
        "        return None  # Returning None means we skip the default training optimizer steps by PyTorch Lightning\n",
        "\n",
        "    def validation_step(self, batch, batch_idx):\n",
        "        # Validation requires to finetune a model, hence we need to enable gradients\n",
        "        torch.set_grad_enabled(True)\n",
        "        self.outer_loop(batch, mode=\"val\")\n",
        "        torch.set_grad_enabled(False)\n"
      ]
    },
    {
      "cell_type": "code",
      "execution_count": null,
      "metadata": {
        "colab": {
          "base_uri": "https://localhost:8080/",
          "height": 166
        },
        "id": "7qjN2yMIdM55",
        "outputId": "49ca7895-2469-4bcb-dc68-1b72721bf5c0"
      },
      "outputs": [
        {
          "output_type": "stream",
          "name": "stdout",
          "text": [
            "Device: cuda:0\n"
          ]
        },
        {
          "output_type": "execute_result",
          "data": {
            "application/vnd.google.colaboratory.intrinsic+json": {
              "type": "string"
            },
            "text/plain": [
              "'1.4.5'"
            ]
          },
          "metadata": {},
          "execution_count": 15
        }
      ],
      "source": [
        "device = torch.device(\"cuda:0\") if torch.cuda.is_available() else torch.device(\"cpu\")\n",
        "print(\"Device:\", device)\n",
        "\n",
        "pl.__version__"
      ]
    },
    {
      "cell_type": "code",
      "source": [
        "!pip --quiet install \"ray[tune]\""
      ],
      "metadata": {
        "id": "5MtCX0b4Ps9a"
      },
      "execution_count": null,
      "outputs": []
    },
    {
      "cell_type": "code",
      "execution_count": null,
      "metadata": {
        "id": "NVduuAiqdIgq"
      },
      "outputs": [],
      "source": [
        "from ray.tune.integration.pytorch_lightning import TuneReportCallback\n",
        "\n",
        "def train_model(config, model_class, train_loader, val_loader):\n",
        "    \n",
        "    metrics = {\"loss\": \"val_loss\"}\n",
        "\n",
        "    # tune hyperparameter\n",
        "    trainer = pl.Trainer(default_root_dir=os.path.join(CHECKPOINT_PATH, model_class.__name__),\n",
        "                         gpus=1 if str(device) == \"cuda:0\" else 0, log_every_n_steps = 10,\n",
        "                         max_epochs=20,\n",
        "                         callbacks=[ModelCheckpoint(save_weights_only=True, mode=\"min\", monitor=\"val_loss\"),\n",
        "                                    LearningRateMonitor(\"epoch\"), \n",
        "                                    TuneReportCallback(metrics, on=\"validation_end\")], \n",
        "                         progress_bar_refresh_rate=0)\n",
        "    \n",
        "    trainer.logger._default_hp_metric = None\n",
        "\n",
        "    # Check whether pretrained model exists. If yes, load it and skip training\n",
        "    pretrained_filename = os.path.join(\n",
        "        CHECKPOINT_PATH, model_class.__name__ + \".ckpt\")\n",
        "    if os.path.isfile(pretrained_filename):\n",
        "        print(f\"Found pretrained model at {pretrained_filename}, loading...\")\n",
        "        # Automatically loads the model with the saved hyperparameters\n",
        "        # model_class = MAMLNetwork(config)\n",
        "        model = model_class.load_from_checkpoint(pretrained_filename)\n",
        "    else:\n",
        "        pl.seed_everything(42)  # To be reproducable\n",
        "        model = model_class(config)\n",
        "        # model_class = MAMLNetwork(config)\n",
        "        trainer.fit(model, train_loader, val_loader)\n",
        "        model = model_class.load_from_checkpoint(trainer.checkpoint_callback.best_model_path)  # Load best checkpoint after training\n",
        "\n",
        "    return model"
      ]
    },
    {
      "cell_type": "code",
      "source": [
        "# Hyper parameter\n",
        "\n",
        "import tempfile\n",
        "from ray import tune\n",
        "\n",
        "num_samples = 10\n",
        "num_epochs = 10\n",
        "gpus_per_trial = 1 # set this to higher if using GPU\n",
        "\n",
        "\n",
        "config = {\n",
        "    \"lr\": tune.choice([0.1,0.01,0.001,0.0001]),\n",
        "    \"lr_inner\": tune.choice([0.1,0.01,0.001,0.0001]),\n",
        "    \"num_inner_steps\": tune.choice([3, 5, 8, 10])\n",
        "}\n",
        "\n",
        "trainable = tune.with_parameters(train_model, model_class = MAMLNetwork, train_loader=train_maml_loader,\n",
        "                              val_loader=val_maml_loader)\n",
        "\n",
        "analysis = tune.run(\n",
        "    trainable,\n",
        "    resources_per_trial={\n",
        "        \"cpu\": 1,\n",
        "        \"gpu\": gpus_per_trial\n",
        "    },\n",
        "    metric=\"loss\",\n",
        "    mode=\"min\",\n",
        "    config=config,\n",
        "    num_samples=num_samples,\n",
        "    name=\"train_model\")\n",
        "\n",
        "print(analysis.best_config)\n"
      ],
      "metadata": {
        "colab": {
          "base_uri": "https://localhost:8080/",
          "height": 1000
        },
        "id": "0aXs_xDw7wG6",
        "outputId": "916697c2-8c9c-48ba-8db5-6b686826f858"
      },
      "execution_count": null,
      "outputs": [
        {
          "output_type": "display_data",
          "data": {
            "text/html": [
              "== Status ==<br>Current time: 2022-01-24 15:27:31 (running for 00:00:02.52)<br>Memory usage on this node: 1.9/12.7 GiB<br>Using FIFO scheduling algorithm.<br>Resources requested: 1.0/2 CPUs, 1.0/1 GPUs, 0.0/6.99 GiB heap, 0.0/3.5 GiB objects (0.0/1.0 accelerator_type:K80)<br>Result logdir: /root/ray_results/train_model<br>Number of trials: 10/10 (9 PENDING, 1 RUNNING)<br><table>\n",
              "<thead>\n",
              "<tr><th>Trial name             </th><th>status  </th><th>loc            </th><th style=\"text-align: right;\">    lr</th><th style=\"text-align: right;\">  lr_inner</th><th style=\"text-align: right;\">  num_inner_steps</th></tr>\n",
              "</thead>\n",
              "<tbody>\n",
              "<tr><td>train_model_24539_00000</td><td>RUNNING </td><td>172.28.0.2:5510</td><td style=\"text-align: right;\">0.1   </td><td style=\"text-align: right;\">    0.1   </td><td style=\"text-align: right;\">                3</td></tr>\n",
              "<tr><td>train_model_24539_00001</td><td>PENDING </td><td>               </td><td style=\"text-align: right;\">0.001 </td><td style=\"text-align: right;\">    0.0001</td><td style=\"text-align: right;\">                5</td></tr>\n",
              "<tr><td>train_model_24539_00002</td><td>PENDING </td><td>               </td><td style=\"text-align: right;\">0.001 </td><td style=\"text-align: right;\">    0.0001</td><td style=\"text-align: right;\">                8</td></tr>\n",
              "<tr><td>train_model_24539_00003</td><td>PENDING </td><td>               </td><td style=\"text-align: right;\">0.0001</td><td style=\"text-align: right;\">    0.1   </td><td style=\"text-align: right;\">                3</td></tr>\n",
              "<tr><td>train_model_24539_00004</td><td>PENDING </td><td>               </td><td style=\"text-align: right;\">0.01  </td><td style=\"text-align: right;\">    0.01  </td><td style=\"text-align: right;\">                3</td></tr>\n",
              "<tr><td>train_model_24539_00005</td><td>PENDING </td><td>               </td><td style=\"text-align: right;\">0.01  </td><td style=\"text-align: right;\">    0.01  </td><td style=\"text-align: right;\">                8</td></tr>\n",
              "<tr><td>train_model_24539_00006</td><td>PENDING </td><td>               </td><td style=\"text-align: right;\">0.001 </td><td style=\"text-align: right;\">    0.0001</td><td style=\"text-align: right;\">               10</td></tr>\n",
              "<tr><td>train_model_24539_00007</td><td>PENDING </td><td>               </td><td style=\"text-align: right;\">0.01  </td><td style=\"text-align: right;\">    0.01  </td><td style=\"text-align: right;\">                8</td></tr>\n",
              "<tr><td>train_model_24539_00008</td><td>PENDING </td><td>               </td><td style=\"text-align: right;\">0.01  </td><td style=\"text-align: right;\">    0.01  </td><td style=\"text-align: right;\">                3</td></tr>\n",
              "<tr><td>train_model_24539_00009</td><td>PENDING </td><td>               </td><td style=\"text-align: right;\">0.01  </td><td style=\"text-align: right;\">    0.1   </td><td style=\"text-align: right;\">               10</td></tr>\n",
              "</tbody>\n",
              "</table><br><br>"
            ],
            "text/plain": [
              "<IPython.core.display.HTML object>"
            ]
          },
          "metadata": {}
        },
        {
          "output_type": "stream",
          "name": "stderr",
          "text": [
            "\u001b[2m\u001b[36m(ImplicitFunc pid=5510)\u001b[0m GPU available: True, used: True\n",
            "\u001b[2m\u001b[36m(ImplicitFunc pid=5510)\u001b[0m TPU available: False, using: 0 TPU cores\n",
            "\u001b[2m\u001b[36m(ImplicitFunc pid=5510)\u001b[0m IPU available: False, using: 0 IPUs\n",
            "\u001b[2m\u001b[36m(ImplicitFunc pid=5510)\u001b[0m Global seed set to 42\n",
            "\u001b[2m\u001b[36m(ImplicitFunc pid=5510)\u001b[0m LOCAL_RANK: 0 - CUDA_VISIBLE_DEVICES: [0]\n"
          ]
        },
        {
          "output_type": "display_data",
          "data": {
            "text/html": [
              "== Status ==<br>Current time: 2022-01-24 15:27:34 (running for 00:00:05.26)<br>Memory usage on this node: 2.9/12.7 GiB<br>Using FIFO scheduling algorithm.<br>Resources requested: 1.0/2 CPUs, 1.0/1 GPUs, 0.0/6.99 GiB heap, 0.0/3.5 GiB objects (0.0/1.0 accelerator_type:K80)<br>Result logdir: /root/ray_results/train_model<br>Number of trials: 10/10 (9 PENDING, 1 RUNNING)<br><table>\n",
              "<thead>\n",
              "<tr><th>Trial name             </th><th>status  </th><th>loc            </th><th style=\"text-align: right;\">    lr</th><th style=\"text-align: right;\">  lr_inner</th><th style=\"text-align: right;\">  num_inner_steps</th></tr>\n",
              "</thead>\n",
              "<tbody>\n",
              "<tr><td>train_model_24539_00000</td><td>RUNNING </td><td>172.28.0.2:5510</td><td style=\"text-align: right;\">0.1   </td><td style=\"text-align: right;\">    0.1   </td><td style=\"text-align: right;\">                3</td></tr>\n",
              "<tr><td>train_model_24539_00001</td><td>PENDING </td><td>               </td><td style=\"text-align: right;\">0.001 </td><td style=\"text-align: right;\">    0.0001</td><td style=\"text-align: right;\">                5</td></tr>\n",
              "<tr><td>train_model_24539_00002</td><td>PENDING </td><td>               </td><td style=\"text-align: right;\">0.001 </td><td style=\"text-align: right;\">    0.0001</td><td style=\"text-align: right;\">                8</td></tr>\n",
              "<tr><td>train_model_24539_00003</td><td>PENDING </td><td>               </td><td style=\"text-align: right;\">0.0001</td><td style=\"text-align: right;\">    0.1   </td><td style=\"text-align: right;\">                3</td></tr>\n",
              "<tr><td>train_model_24539_00004</td><td>PENDING </td><td>               </td><td style=\"text-align: right;\">0.01  </td><td style=\"text-align: right;\">    0.01  </td><td style=\"text-align: right;\">                3</td></tr>\n",
              "<tr><td>train_model_24539_00005</td><td>PENDING </td><td>               </td><td style=\"text-align: right;\">0.01  </td><td style=\"text-align: right;\">    0.01  </td><td style=\"text-align: right;\">                8</td></tr>\n",
              "<tr><td>train_model_24539_00006</td><td>PENDING </td><td>               </td><td style=\"text-align: right;\">0.001 </td><td style=\"text-align: right;\">    0.0001</td><td style=\"text-align: right;\">               10</td></tr>\n",
              "<tr><td>train_model_24539_00007</td><td>PENDING </td><td>               </td><td style=\"text-align: right;\">0.01  </td><td style=\"text-align: right;\">    0.01  </td><td style=\"text-align: right;\">                8</td></tr>\n",
              "<tr><td>train_model_24539_00008</td><td>PENDING </td><td>               </td><td style=\"text-align: right;\">0.01  </td><td style=\"text-align: right;\">    0.01  </td><td style=\"text-align: right;\">                3</td></tr>\n",
              "<tr><td>train_model_24539_00009</td><td>PENDING </td><td>               </td><td style=\"text-align: right;\">0.01  </td><td style=\"text-align: right;\">    0.1   </td><td style=\"text-align: right;\">               10</td></tr>\n",
              "</tbody>\n",
              "</table><br><br>"
            ],
            "text/plain": [
              "<IPython.core.display.HTML object>"
            ]
          },
          "metadata": {}
        },
        {
          "output_type": "stream",
          "name": "stderr",
          "text": [
            "\u001b[2m\u001b[36m(ImplicitFunc pid=5510)\u001b[0m \n",
            "\u001b[2m\u001b[36m(ImplicitFunc pid=5510)\u001b[0m   | Name          | Type    | Params\n",
            "\u001b[2m\u001b[36m(ImplicitFunc pid=5510)\u001b[0m ------------------------------------------\n",
            "\u001b[2m\u001b[36m(ImplicitFunc pid=5510)\u001b[0m 0 | model         | Net     | 427 K \n",
            "\u001b[2m\u001b[36m(ImplicitFunc pid=5510)\u001b[0m 1 | mse_criterion | MSELoss | 0     \n",
            "\u001b[2m\u001b[36m(ImplicitFunc pid=5510)\u001b[0m 2 | mae_criterion | L1Loss  | 0     \n",
            "\u001b[2m\u001b[36m(ImplicitFunc pid=5510)\u001b[0m ------------------------------------------\n",
            "\u001b[2m\u001b[36m(ImplicitFunc pid=5510)\u001b[0m 427 K     Trainable params\n",
            "\u001b[2m\u001b[36m(ImplicitFunc pid=5510)\u001b[0m 0         Non-trainable params\n",
            "\u001b[2m\u001b[36m(ImplicitFunc pid=5510)\u001b[0m 427 K     Total params\n",
            "\u001b[2m\u001b[36m(ImplicitFunc pid=5510)\u001b[0m 1.708     Total estimated model params size (MB)\n",
            "\u001b[2m\u001b[36m(ImplicitFunc pid=5510)\u001b[0m /usr/local/lib/python3.7/dist-packages/ray/workers/default_worker.py:24: UserWarning: The given NumPy array is not writeable, and PyTorch does not support non-writeable tensors. This means you can write to the underlying (supposedly non-writeable) NumPy array using the tensor. You may want to copy the array to protect its data or make it writeable before converting it to a tensor. This type of warning will be suppressed for the rest of this program. (Triggered internally at  ../torch/csrc/utils/tensor_numpy.cpp:189.)\n",
            "\u001b[2m\u001b[36m(ImplicitFunc pid=5510)\u001b[0m   help=\"the ip address of the worker's node\")\n",
            "\u001b[2m\u001b[36m(ImplicitFunc pid=5510)\u001b[0m /usr/local/lib/python3.7/dist-packages/ray/workers/default_worker.py:24: UserWarning: The given NumPy array is not writeable, and PyTorch does not support non-writeable tensors. This means you can write to the underlying (supposedly non-writeable) NumPy array using the tensor. You may want to copy the array to protect its data or make it writeable before converting it to a tensor. This type of warning will be suppressed for the rest of this program. (Triggered internally at  ../torch/csrc/utils/tensor_numpy.cpp:189.)\n",
            "\u001b[2m\u001b[36m(ImplicitFunc pid=5510)\u001b[0m   help=\"the ip address of the worker's node\")\n",
            "\u001b[2m\u001b[36m(ImplicitFunc pid=5510)\u001b[0m /usr/local/lib/python3.7/dist-packages/pytorch_lightning/trainer/deprecated_api.py:26: LightningDeprecationWarning: `Trainer.running_sanity_check` has been renamed to `Trainer.sanity_checking` and will be removed in v1.5.\n",
            "\u001b[2m\u001b[36m(ImplicitFunc pid=5510)\u001b[0m   \"`Trainer.running_sanity_check` has been renamed to `Trainer.sanity_checking` and will be removed in v1.5.\"\n",
            "\u001b[2m\u001b[36m(ImplicitFunc pid=5510)\u001b[0m Global seed set to 42\n",
            "\u001b[2m\u001b[36m(ImplicitFunc pid=5510)\u001b[0m /usr/local/lib/python3.7/dist-packages/ray/workers/default_worker.py:24: UserWarning: The given NumPy array is not writeable, and PyTorch does not support non-writeable tensors. This means you can write to the underlying (supposedly non-writeable) NumPy array using the tensor. You may want to copy the array to protect its data or make it writeable before converting it to a tensor. This type of warning will be suppressed for the rest of this program. (Triggered internally at  ../torch/csrc/utils/tensor_numpy.cpp:189.)\n",
            "\u001b[2m\u001b[36m(ImplicitFunc pid=5510)\u001b[0m   help=\"the ip address of the worker's node\")\n",
            "\u001b[2m\u001b[36m(ImplicitFunc pid=5510)\u001b[0m /usr/local/lib/python3.7/dist-packages/ray/workers/default_worker.py:24: UserWarning: The given NumPy array is not writeable, and PyTorch does not support non-writeable tensors. This means you can write to the underlying (supposedly non-writeable) NumPy array using the tensor. You may want to copy the array to protect its data or make it writeable before converting it to a tensor. This type of warning will be suppressed for the rest of this program. (Triggered internally at  ../torch/csrc/utils/tensor_numpy.cpp:189.)\n",
            "\u001b[2m\u001b[36m(ImplicitFunc pid=5510)\u001b[0m   help=\"the ip address of the worker's node\")\n",
            "\u001b[2m\u001b[36m(ImplicitFunc pid=5510)\u001b[0m /usr/local/lib/python3.7/dist-packages/pytorch_lightning/loops/batch/training_batch_loop.py:559: UserWarning: training_step returned None. If this was on purpose, ignore this warning...\n",
            "\u001b[2m\u001b[36m(ImplicitFunc pid=5510)\u001b[0m   \"training_step returned None. If this was on purpose, ignore this warning...\"\n"
          ]
        },
        {
          "output_type": "display_data",
          "data": {
            "text/html": [
              "== Status ==<br>Current time: 2022-01-24 15:27:40 (running for 00:00:11.26)<br>Memory usage on this node: 3.3/12.7 GiB<br>Using FIFO scheduling algorithm.<br>Resources requested: 1.0/2 CPUs, 1.0/1 GPUs, 0.0/6.99 GiB heap, 0.0/3.5 GiB objects (0.0/1.0 accelerator_type:K80)<br>Result logdir: /root/ray_results/train_model<br>Number of trials: 10/10 (9 PENDING, 1 RUNNING)<br><table>\n",
              "<thead>\n",
              "<tr><th>Trial name             </th><th>status  </th><th>loc            </th><th style=\"text-align: right;\">    lr</th><th style=\"text-align: right;\">  lr_inner</th><th style=\"text-align: right;\">  num_inner_steps</th></tr>\n",
              "</thead>\n",
              "<tbody>\n",
              "<tr><td>train_model_24539_00000</td><td>RUNNING </td><td>172.28.0.2:5510</td><td style=\"text-align: right;\">0.1   </td><td style=\"text-align: right;\">    0.1   </td><td style=\"text-align: right;\">                3</td></tr>\n",
              "<tr><td>train_model_24539_00001</td><td>PENDING </td><td>               </td><td style=\"text-align: right;\">0.001 </td><td style=\"text-align: right;\">    0.0001</td><td style=\"text-align: right;\">                5</td></tr>\n",
              "<tr><td>train_model_24539_00002</td><td>PENDING </td><td>               </td><td style=\"text-align: right;\">0.001 </td><td style=\"text-align: right;\">    0.0001</td><td style=\"text-align: right;\">                8</td></tr>\n",
              "<tr><td>train_model_24539_00003</td><td>PENDING </td><td>               </td><td style=\"text-align: right;\">0.0001</td><td style=\"text-align: right;\">    0.1   </td><td style=\"text-align: right;\">                3</td></tr>\n",
              "<tr><td>train_model_24539_00004</td><td>PENDING </td><td>               </td><td style=\"text-align: right;\">0.01  </td><td style=\"text-align: right;\">    0.01  </td><td style=\"text-align: right;\">                3</td></tr>\n",
              "<tr><td>train_model_24539_00005</td><td>PENDING </td><td>               </td><td style=\"text-align: right;\">0.01  </td><td style=\"text-align: right;\">    0.01  </td><td style=\"text-align: right;\">                8</td></tr>\n",
              "<tr><td>train_model_24539_00006</td><td>PENDING </td><td>               </td><td style=\"text-align: right;\">0.001 </td><td style=\"text-align: right;\">    0.0001</td><td style=\"text-align: right;\">               10</td></tr>\n",
              "<tr><td>train_model_24539_00007</td><td>PENDING </td><td>               </td><td style=\"text-align: right;\">0.01  </td><td style=\"text-align: right;\">    0.01  </td><td style=\"text-align: right;\">                8</td></tr>\n",
              "<tr><td>train_model_24539_00008</td><td>PENDING </td><td>               </td><td style=\"text-align: right;\">0.01  </td><td style=\"text-align: right;\">    0.01  </td><td style=\"text-align: right;\">                3</td></tr>\n",
              "<tr><td>train_model_24539_00009</td><td>PENDING </td><td>               </td><td style=\"text-align: right;\">0.01  </td><td style=\"text-align: right;\">    0.1   </td><td style=\"text-align: right;\">               10</td></tr>\n",
              "</tbody>\n",
              "</table><br><br>"
            ],
            "text/plain": [
              "<IPython.core.display.HTML object>"
            ]
          },
          "metadata": {}
        },
        {
          "output_type": "display_data",
          "data": {
            "text/html": [
              "== Status ==<br>Current time: 2022-01-24 15:27:45 (running for 00:00:16.30)<br>Memory usage on this node: 3.3/12.7 GiB<br>Using FIFO scheduling algorithm.<br>Resources requested: 1.0/2 CPUs, 1.0/1 GPUs, 0.0/6.99 GiB heap, 0.0/3.5 GiB objects (0.0/1.0 accelerator_type:K80)<br>Result logdir: /root/ray_results/train_model<br>Number of trials: 10/10 (9 PENDING, 1 RUNNING)<br><table>\n",
              "<thead>\n",
              "<tr><th>Trial name             </th><th>status  </th><th>loc            </th><th style=\"text-align: right;\">    lr</th><th style=\"text-align: right;\">  lr_inner</th><th style=\"text-align: right;\">  num_inner_steps</th></tr>\n",
              "</thead>\n",
              "<tbody>\n",
              "<tr><td>train_model_24539_00000</td><td>RUNNING </td><td>172.28.0.2:5510</td><td style=\"text-align: right;\">0.1   </td><td style=\"text-align: right;\">    0.1   </td><td style=\"text-align: right;\">                3</td></tr>\n",
              "<tr><td>train_model_24539_00001</td><td>PENDING </td><td>               </td><td style=\"text-align: right;\">0.001 </td><td style=\"text-align: right;\">    0.0001</td><td style=\"text-align: right;\">                5</td></tr>\n",
              "<tr><td>train_model_24539_00002</td><td>PENDING </td><td>               </td><td style=\"text-align: right;\">0.001 </td><td style=\"text-align: right;\">    0.0001</td><td style=\"text-align: right;\">                8</td></tr>\n",
              "<tr><td>train_model_24539_00003</td><td>PENDING </td><td>               </td><td style=\"text-align: right;\">0.0001</td><td style=\"text-align: right;\">    0.1   </td><td style=\"text-align: right;\">                3</td></tr>\n",
              "<tr><td>train_model_24539_00004</td><td>PENDING </td><td>               </td><td style=\"text-align: right;\">0.01  </td><td style=\"text-align: right;\">    0.01  </td><td style=\"text-align: right;\">                3</td></tr>\n",
              "<tr><td>train_model_24539_00005</td><td>PENDING </td><td>               </td><td style=\"text-align: right;\">0.01  </td><td style=\"text-align: right;\">    0.01  </td><td style=\"text-align: right;\">                8</td></tr>\n",
              "<tr><td>train_model_24539_00006</td><td>PENDING </td><td>               </td><td style=\"text-align: right;\">0.001 </td><td style=\"text-align: right;\">    0.0001</td><td style=\"text-align: right;\">               10</td></tr>\n",
              "<tr><td>train_model_24539_00007</td><td>PENDING </td><td>               </td><td style=\"text-align: right;\">0.01  </td><td style=\"text-align: right;\">    0.01  </td><td style=\"text-align: right;\">                8</td></tr>\n",
              "<tr><td>train_model_24539_00008</td><td>PENDING </td><td>               </td><td style=\"text-align: right;\">0.01  </td><td style=\"text-align: right;\">    0.01  </td><td style=\"text-align: right;\">                3</td></tr>\n",
              "<tr><td>train_model_24539_00009</td><td>PENDING </td><td>               </td><td style=\"text-align: right;\">0.01  </td><td style=\"text-align: right;\">    0.1   </td><td style=\"text-align: right;\">               10</td></tr>\n",
              "</tbody>\n",
              "</table><br><br>"
            ],
            "text/plain": [
              "<IPython.core.display.HTML object>"
            ]
          },
          "metadata": {}
        },
        {
          "output_type": "display_data",
          "data": {
            "text/html": [
              "== Status ==<br>Current time: 2022-01-24 15:27:50 (running for 00:00:21.34)<br>Memory usage on this node: 3.3/12.7 GiB<br>Using FIFO scheduling algorithm.<br>Resources requested: 1.0/2 CPUs, 1.0/1 GPUs, 0.0/6.99 GiB heap, 0.0/3.5 GiB objects (0.0/1.0 accelerator_type:K80)<br>Result logdir: /root/ray_results/train_model<br>Number of trials: 10/10 (9 PENDING, 1 RUNNING)<br><table>\n",
              "<thead>\n",
              "<tr><th>Trial name             </th><th>status  </th><th>loc            </th><th style=\"text-align: right;\">    lr</th><th style=\"text-align: right;\">  lr_inner</th><th style=\"text-align: right;\">  num_inner_steps</th></tr>\n",
              "</thead>\n",
              "<tbody>\n",
              "<tr><td>train_model_24539_00000</td><td>RUNNING </td><td>172.28.0.2:5510</td><td style=\"text-align: right;\">0.1   </td><td style=\"text-align: right;\">    0.1   </td><td style=\"text-align: right;\">                3</td></tr>\n",
              "<tr><td>train_model_24539_00001</td><td>PENDING </td><td>               </td><td style=\"text-align: right;\">0.001 </td><td style=\"text-align: right;\">    0.0001</td><td style=\"text-align: right;\">                5</td></tr>\n",
              "<tr><td>train_model_24539_00002</td><td>PENDING </td><td>               </td><td style=\"text-align: right;\">0.001 </td><td style=\"text-align: right;\">    0.0001</td><td style=\"text-align: right;\">                8</td></tr>\n",
              "<tr><td>train_model_24539_00003</td><td>PENDING </td><td>               </td><td style=\"text-align: right;\">0.0001</td><td style=\"text-align: right;\">    0.1   </td><td style=\"text-align: right;\">                3</td></tr>\n",
              "<tr><td>train_model_24539_00004</td><td>PENDING </td><td>               </td><td style=\"text-align: right;\">0.01  </td><td style=\"text-align: right;\">    0.01  </td><td style=\"text-align: right;\">                3</td></tr>\n",
              "<tr><td>train_model_24539_00005</td><td>PENDING </td><td>               </td><td style=\"text-align: right;\">0.01  </td><td style=\"text-align: right;\">    0.01  </td><td style=\"text-align: right;\">                8</td></tr>\n",
              "<tr><td>train_model_24539_00006</td><td>PENDING </td><td>               </td><td style=\"text-align: right;\">0.001 </td><td style=\"text-align: right;\">    0.0001</td><td style=\"text-align: right;\">               10</td></tr>\n",
              "<tr><td>train_model_24539_00007</td><td>PENDING </td><td>               </td><td style=\"text-align: right;\">0.01  </td><td style=\"text-align: right;\">    0.01  </td><td style=\"text-align: right;\">                8</td></tr>\n",
              "<tr><td>train_model_24539_00008</td><td>PENDING </td><td>               </td><td style=\"text-align: right;\">0.01  </td><td style=\"text-align: right;\">    0.01  </td><td style=\"text-align: right;\">                3</td></tr>\n",
              "<tr><td>train_model_24539_00009</td><td>PENDING </td><td>               </td><td style=\"text-align: right;\">0.01  </td><td style=\"text-align: right;\">    0.1   </td><td style=\"text-align: right;\">               10</td></tr>\n",
              "</tbody>\n",
              "</table><br><br>"
            ],
            "text/plain": [
              "<IPython.core.display.HTML object>"
            ]
          },
          "metadata": {}
        },
        {
          "output_type": "display_data",
          "data": {
            "text/html": [
              "== Status ==<br>Current time: 2022-01-24 15:27:55 (running for 00:00:26.37)<br>Memory usage on this node: 3.3/12.7 GiB<br>Using FIFO scheduling algorithm.<br>Resources requested: 1.0/2 CPUs, 1.0/1 GPUs, 0.0/6.99 GiB heap, 0.0/3.5 GiB objects (0.0/1.0 accelerator_type:K80)<br>Result logdir: /root/ray_results/train_model<br>Number of trials: 10/10 (9 PENDING, 1 RUNNING)<br><table>\n",
              "<thead>\n",
              "<tr><th>Trial name             </th><th>status  </th><th>loc            </th><th style=\"text-align: right;\">    lr</th><th style=\"text-align: right;\">  lr_inner</th><th style=\"text-align: right;\">  num_inner_steps</th></tr>\n",
              "</thead>\n",
              "<tbody>\n",
              "<tr><td>train_model_24539_00000</td><td>RUNNING </td><td>172.28.0.2:5510</td><td style=\"text-align: right;\">0.1   </td><td style=\"text-align: right;\">    0.1   </td><td style=\"text-align: right;\">                3</td></tr>\n",
              "<tr><td>train_model_24539_00001</td><td>PENDING </td><td>               </td><td style=\"text-align: right;\">0.001 </td><td style=\"text-align: right;\">    0.0001</td><td style=\"text-align: right;\">                5</td></tr>\n",
              "<tr><td>train_model_24539_00002</td><td>PENDING </td><td>               </td><td style=\"text-align: right;\">0.001 </td><td style=\"text-align: right;\">    0.0001</td><td style=\"text-align: right;\">                8</td></tr>\n",
              "<tr><td>train_model_24539_00003</td><td>PENDING </td><td>               </td><td style=\"text-align: right;\">0.0001</td><td style=\"text-align: right;\">    0.1   </td><td style=\"text-align: right;\">                3</td></tr>\n",
              "<tr><td>train_model_24539_00004</td><td>PENDING </td><td>               </td><td style=\"text-align: right;\">0.01  </td><td style=\"text-align: right;\">    0.01  </td><td style=\"text-align: right;\">                3</td></tr>\n",
              "<tr><td>train_model_24539_00005</td><td>PENDING </td><td>               </td><td style=\"text-align: right;\">0.01  </td><td style=\"text-align: right;\">    0.01  </td><td style=\"text-align: right;\">                8</td></tr>\n",
              "<tr><td>train_model_24539_00006</td><td>PENDING </td><td>               </td><td style=\"text-align: right;\">0.001 </td><td style=\"text-align: right;\">    0.0001</td><td style=\"text-align: right;\">               10</td></tr>\n",
              "<tr><td>train_model_24539_00007</td><td>PENDING </td><td>               </td><td style=\"text-align: right;\">0.01  </td><td style=\"text-align: right;\">    0.01  </td><td style=\"text-align: right;\">                8</td></tr>\n",
              "<tr><td>train_model_24539_00008</td><td>PENDING </td><td>               </td><td style=\"text-align: right;\">0.01  </td><td style=\"text-align: right;\">    0.01  </td><td style=\"text-align: right;\">                3</td></tr>\n",
              "<tr><td>train_model_24539_00009</td><td>PENDING </td><td>               </td><td style=\"text-align: right;\">0.01  </td><td style=\"text-align: right;\">    0.1   </td><td style=\"text-align: right;\">               10</td></tr>\n",
              "</tbody>\n",
              "</table><br><br>"
            ],
            "text/plain": [
              "<IPython.core.display.HTML object>"
            ]
          },
          "metadata": {}
        },
        {
          "output_type": "display_data",
          "data": {
            "text/html": [
              "== Status ==<br>Current time: 2022-01-24 15:28:00 (running for 00:00:31.41)<br>Memory usage on this node: 3.3/12.7 GiB<br>Using FIFO scheduling algorithm.<br>Resources requested: 1.0/2 CPUs, 1.0/1 GPUs, 0.0/6.99 GiB heap, 0.0/3.5 GiB objects (0.0/1.0 accelerator_type:K80)<br>Result logdir: /root/ray_results/train_model<br>Number of trials: 10/10 (9 PENDING, 1 RUNNING)<br><table>\n",
              "<thead>\n",
              "<tr><th>Trial name             </th><th>status  </th><th>loc            </th><th style=\"text-align: right;\">    lr</th><th style=\"text-align: right;\">  lr_inner</th><th style=\"text-align: right;\">  num_inner_steps</th></tr>\n",
              "</thead>\n",
              "<tbody>\n",
              "<tr><td>train_model_24539_00000</td><td>RUNNING </td><td>172.28.0.2:5510</td><td style=\"text-align: right;\">0.1   </td><td style=\"text-align: right;\">    0.1   </td><td style=\"text-align: right;\">                3</td></tr>\n",
              "<tr><td>train_model_24539_00001</td><td>PENDING </td><td>               </td><td style=\"text-align: right;\">0.001 </td><td style=\"text-align: right;\">    0.0001</td><td style=\"text-align: right;\">                5</td></tr>\n",
              "<tr><td>train_model_24539_00002</td><td>PENDING </td><td>               </td><td style=\"text-align: right;\">0.001 </td><td style=\"text-align: right;\">    0.0001</td><td style=\"text-align: right;\">                8</td></tr>\n",
              "<tr><td>train_model_24539_00003</td><td>PENDING </td><td>               </td><td style=\"text-align: right;\">0.0001</td><td style=\"text-align: right;\">    0.1   </td><td style=\"text-align: right;\">                3</td></tr>\n",
              "<tr><td>train_model_24539_00004</td><td>PENDING </td><td>               </td><td style=\"text-align: right;\">0.01  </td><td style=\"text-align: right;\">    0.01  </td><td style=\"text-align: right;\">                3</td></tr>\n",
              "<tr><td>train_model_24539_00005</td><td>PENDING </td><td>               </td><td style=\"text-align: right;\">0.01  </td><td style=\"text-align: right;\">    0.01  </td><td style=\"text-align: right;\">                8</td></tr>\n",
              "<tr><td>train_model_24539_00006</td><td>PENDING </td><td>               </td><td style=\"text-align: right;\">0.001 </td><td style=\"text-align: right;\">    0.0001</td><td style=\"text-align: right;\">               10</td></tr>\n",
              "<tr><td>train_model_24539_00007</td><td>PENDING </td><td>               </td><td style=\"text-align: right;\">0.01  </td><td style=\"text-align: right;\">    0.01  </td><td style=\"text-align: right;\">                8</td></tr>\n",
              "<tr><td>train_model_24539_00008</td><td>PENDING </td><td>               </td><td style=\"text-align: right;\">0.01  </td><td style=\"text-align: right;\">    0.01  </td><td style=\"text-align: right;\">                3</td></tr>\n",
              "<tr><td>train_model_24539_00009</td><td>PENDING </td><td>               </td><td style=\"text-align: right;\">0.01  </td><td style=\"text-align: right;\">    0.1   </td><td style=\"text-align: right;\">               10</td></tr>\n",
              "</tbody>\n",
              "</table><br><br>"
            ],
            "text/plain": [
              "<IPython.core.display.HTML object>"
            ]
          },
          "metadata": {}
        },
        {
          "output_type": "stream",
          "name": "stderr",
          "text": [
            "\u001b[2m\u001b[36m(ImplicitFunc pid=5510)\u001b[0m /usr/local/lib/python3.7/dist-packages/ray/workers/default_worker.py:24: UserWarning: The given NumPy array is not writeable, and PyTorch does not support non-writeable tensors. This means you can write to the underlying (supposedly non-writeable) NumPy array using the tensor. You may want to copy the array to protect its data or make it writeable before converting it to a tensor. This type of warning will be suppressed for the rest of this program. (Triggered internally at  ../torch/csrc/utils/tensor_numpy.cpp:189.)\n",
            "\u001b[2m\u001b[36m(ImplicitFunc pid=5510)\u001b[0m   help=\"the ip address of the worker's node\")\n",
            "\u001b[2m\u001b[36m(ImplicitFunc pid=5510)\u001b[0m /usr/local/lib/python3.7/dist-packages/ray/workers/default_worker.py:24: UserWarning: The given NumPy array is not writeable, and PyTorch does not support non-writeable tensors. This means you can write to the underlying (supposedly non-writeable) NumPy array using the tensor. You may want to copy the array to protect its data or make it writeable before converting it to a tensor. This type of warning will be suppressed for the rest of this program. (Triggered internally at  ../torch/csrc/utils/tensor_numpy.cpp:189.)\n",
            "\u001b[2m\u001b[36m(ImplicitFunc pid=5510)\u001b[0m   help=\"the ip address of the worker's node\")\n"
          ]
        },
        {
          "output_type": "display_data",
          "data": {
            "text/html": [
              "== Status ==<br>Current time: 2022-01-24 15:28:05 (running for 00:00:36.44)<br>Memory usage on this node: 3.3/12.7 GiB<br>Using FIFO scheduling algorithm.<br>Resources requested: 1.0/2 CPUs, 1.0/1 GPUs, 0.0/6.99 GiB heap, 0.0/3.5 GiB objects (0.0/1.0 accelerator_type:K80)<br>Result logdir: /root/ray_results/train_model<br>Number of trials: 10/10 (9 PENDING, 1 RUNNING)<br><table>\n",
              "<thead>\n",
              "<tr><th>Trial name             </th><th>status  </th><th>loc            </th><th style=\"text-align: right;\">    lr</th><th style=\"text-align: right;\">  lr_inner</th><th style=\"text-align: right;\">  num_inner_steps</th></tr>\n",
              "</thead>\n",
              "<tbody>\n",
              "<tr><td>train_model_24539_00000</td><td>RUNNING </td><td>172.28.0.2:5510</td><td style=\"text-align: right;\">0.1   </td><td style=\"text-align: right;\">    0.1   </td><td style=\"text-align: right;\">                3</td></tr>\n",
              "<tr><td>train_model_24539_00001</td><td>PENDING </td><td>               </td><td style=\"text-align: right;\">0.001 </td><td style=\"text-align: right;\">    0.0001</td><td style=\"text-align: right;\">                5</td></tr>\n",
              "<tr><td>train_model_24539_00002</td><td>PENDING </td><td>               </td><td style=\"text-align: right;\">0.001 </td><td style=\"text-align: right;\">    0.0001</td><td style=\"text-align: right;\">                8</td></tr>\n",
              "<tr><td>train_model_24539_00003</td><td>PENDING </td><td>               </td><td style=\"text-align: right;\">0.0001</td><td style=\"text-align: right;\">    0.1   </td><td style=\"text-align: right;\">                3</td></tr>\n",
              "<tr><td>train_model_24539_00004</td><td>PENDING </td><td>               </td><td style=\"text-align: right;\">0.01  </td><td style=\"text-align: right;\">    0.01  </td><td style=\"text-align: right;\">                3</td></tr>\n",
              "<tr><td>train_model_24539_00005</td><td>PENDING </td><td>               </td><td style=\"text-align: right;\">0.01  </td><td style=\"text-align: right;\">    0.01  </td><td style=\"text-align: right;\">                8</td></tr>\n",
              "<tr><td>train_model_24539_00006</td><td>PENDING </td><td>               </td><td style=\"text-align: right;\">0.001 </td><td style=\"text-align: right;\">    0.0001</td><td style=\"text-align: right;\">               10</td></tr>\n",
              "<tr><td>train_model_24539_00007</td><td>PENDING </td><td>               </td><td style=\"text-align: right;\">0.01  </td><td style=\"text-align: right;\">    0.01  </td><td style=\"text-align: right;\">                8</td></tr>\n",
              "<tr><td>train_model_24539_00008</td><td>PENDING </td><td>               </td><td style=\"text-align: right;\">0.01  </td><td style=\"text-align: right;\">    0.01  </td><td style=\"text-align: right;\">                3</td></tr>\n",
              "<tr><td>train_model_24539_00009</td><td>PENDING </td><td>               </td><td style=\"text-align: right;\">0.01  </td><td style=\"text-align: right;\">    0.1   </td><td style=\"text-align: right;\">               10</td></tr>\n",
              "</tbody>\n",
              "</table><br><br>"
            ],
            "text/plain": [
              "<IPython.core.display.HTML object>"
            ]
          },
          "metadata": {}
        },
        {
          "output_type": "stream",
          "name": "stdout",
          "text": [
            "Result for train_model_24539_00000:\n",
            "  date: 2022-01-24_15-28-08\n",
            "  done: false\n",
            "  experiment_id: 33e8d81ad38b44adbf5bb0778168d613\n",
            "  hostname: dfa2a0b682a2\n",
            "  iterations_since_restore: 1\n",
            "  loss: 20.71133804321289\n",
            "  node_ip: 172.28.0.2\n",
            "  pid: 5510\n",
            "  time_since_restore: 36.749401330947876\n",
            "  time_this_iter_s: 36.749401330947876\n",
            "  time_total_s: 36.749401330947876\n",
            "  timestamp: 1643038088\n",
            "  timesteps_since_restore: 0\n",
            "  training_iteration: 1\n",
            "  trial_id: '24539_00000'\n",
            "  \n"
          ]
        },
        {
          "output_type": "stream",
          "name": "stderr",
          "text": [
            "\u001b[2m\u001b[36m(ImplicitFunc pid=5510)\u001b[0m /usr/local/lib/python3.7/dist-packages/pytorch_lightning/trainer/deprecated_api.py:26: LightningDeprecationWarning: `Trainer.running_sanity_check` has been renamed to `Trainer.sanity_checking` and will be removed in v1.5.\n",
            "\u001b[2m\u001b[36m(ImplicitFunc pid=5510)\u001b[0m   \"`Trainer.running_sanity_check` has been renamed to `Trainer.sanity_checking` and will be removed in v1.5.\"\n",
            "\u001b[2m\u001b[36m(ImplicitFunc pid=5510)\u001b[0m /usr/local/lib/python3.7/dist-packages/ray/workers/default_worker.py:24: UserWarning: The given NumPy array is not writeable, and PyTorch does not support non-writeable tensors. This means you can write to the underlying (supposedly non-writeable) NumPy array using the tensor. You may want to copy the array to protect its data or make it writeable before converting it to a tensor. This type of warning will be suppressed for the rest of this program. (Triggered internally at  ../torch/csrc/utils/tensor_numpy.cpp:189.)\n",
            "\u001b[2m\u001b[36m(ImplicitFunc pid=5510)\u001b[0m   help=\"the ip address of the worker's node\")\n",
            "\u001b[2m\u001b[36m(ImplicitFunc pid=5510)\u001b[0m /usr/local/lib/python3.7/dist-packages/ray/workers/default_worker.py:24: UserWarning: The given NumPy array is not writeable, and PyTorch does not support non-writeable tensors. This means you can write to the underlying (supposedly non-writeable) NumPy array using the tensor. You may want to copy the array to protect its data or make it writeable before converting it to a tensor. This type of warning will be suppressed for the rest of this program. (Triggered internally at  ../torch/csrc/utils/tensor_numpy.cpp:189.)\n",
            "\u001b[2m\u001b[36m(ImplicitFunc pid=5510)\u001b[0m   help=\"the ip address of the worker's node\")\n"
          ]
        },
        {
          "output_type": "display_data",
          "data": {
            "text/html": [
              "== Status ==<br>Current time: 2022-01-24 15:28:11 (running for 00:00:42.31)<br>Memory usage on this node: 3.3/12.7 GiB<br>Using FIFO scheduling algorithm.<br>Resources requested: 1.0/2 CPUs, 1.0/1 GPUs, 0.0/6.99 GiB heap, 0.0/3.5 GiB objects (0.0/1.0 accelerator_type:K80)<br>Current best trial: 24539_00000 with loss=20.71133804321289 and parameters={'lr': 0.1, 'lr_inner': 0.1, 'num_inner_steps': 3}<br>Result logdir: /root/ray_results/train_model<br>Number of trials: 10/10 (9 PENDING, 1 RUNNING)<br><table>\n",
              "<thead>\n",
              "<tr><th>Trial name             </th><th>status  </th><th>loc            </th><th style=\"text-align: right;\">    lr</th><th style=\"text-align: right;\">  lr_inner</th><th style=\"text-align: right;\">  num_inner_steps</th><th style=\"text-align: right;\">  iter</th><th style=\"text-align: right;\">  total time (s)</th><th style=\"text-align: right;\">   loss</th></tr>\n",
              "</thead>\n",
              "<tbody>\n",
              "<tr><td>train_model_24539_00000</td><td>RUNNING </td><td>172.28.0.2:5510</td><td style=\"text-align: right;\">0.1   </td><td style=\"text-align: right;\">    0.1   </td><td style=\"text-align: right;\">                3</td><td style=\"text-align: right;\">     1</td><td style=\"text-align: right;\">         36.7494</td><td style=\"text-align: right;\">20.7113</td></tr>\n",
              "<tr><td>train_model_24539_00001</td><td>PENDING </td><td>               </td><td style=\"text-align: right;\">0.001 </td><td style=\"text-align: right;\">    0.0001</td><td style=\"text-align: right;\">                5</td><td style=\"text-align: right;\">      </td><td style=\"text-align: right;\">                </td><td style=\"text-align: right;\">       </td></tr>\n",
              "<tr><td>train_model_24539_00002</td><td>PENDING </td><td>               </td><td style=\"text-align: right;\">0.001 </td><td style=\"text-align: right;\">    0.0001</td><td style=\"text-align: right;\">                8</td><td style=\"text-align: right;\">      </td><td style=\"text-align: right;\">                </td><td style=\"text-align: right;\">       </td></tr>\n",
              "<tr><td>train_model_24539_00003</td><td>PENDING </td><td>               </td><td style=\"text-align: right;\">0.0001</td><td style=\"text-align: right;\">    0.1   </td><td style=\"text-align: right;\">                3</td><td style=\"text-align: right;\">      </td><td style=\"text-align: right;\">                </td><td style=\"text-align: right;\">       </td></tr>\n",
              "<tr><td>train_model_24539_00004</td><td>PENDING </td><td>               </td><td style=\"text-align: right;\">0.01  </td><td style=\"text-align: right;\">    0.01  </td><td style=\"text-align: right;\">                3</td><td style=\"text-align: right;\">      </td><td style=\"text-align: right;\">                </td><td style=\"text-align: right;\">       </td></tr>\n",
              "<tr><td>train_model_24539_00005</td><td>PENDING </td><td>               </td><td style=\"text-align: right;\">0.01  </td><td style=\"text-align: right;\">    0.01  </td><td style=\"text-align: right;\">                8</td><td style=\"text-align: right;\">      </td><td style=\"text-align: right;\">                </td><td style=\"text-align: right;\">       </td></tr>\n",
              "<tr><td>train_model_24539_00006</td><td>PENDING </td><td>               </td><td style=\"text-align: right;\">0.001 </td><td style=\"text-align: right;\">    0.0001</td><td style=\"text-align: right;\">               10</td><td style=\"text-align: right;\">      </td><td style=\"text-align: right;\">                </td><td style=\"text-align: right;\">       </td></tr>\n",
              "<tr><td>train_model_24539_00007</td><td>PENDING </td><td>               </td><td style=\"text-align: right;\">0.01  </td><td style=\"text-align: right;\">    0.01  </td><td style=\"text-align: right;\">                8</td><td style=\"text-align: right;\">      </td><td style=\"text-align: right;\">                </td><td style=\"text-align: right;\">       </td></tr>\n",
              "<tr><td>train_model_24539_00008</td><td>PENDING </td><td>               </td><td style=\"text-align: right;\">0.01  </td><td style=\"text-align: right;\">    0.01  </td><td style=\"text-align: right;\">                3</td><td style=\"text-align: right;\">      </td><td style=\"text-align: right;\">                </td><td style=\"text-align: right;\">       </td></tr>\n",
              "<tr><td>train_model_24539_00009</td><td>PENDING </td><td>               </td><td style=\"text-align: right;\">0.01  </td><td style=\"text-align: right;\">    0.1   </td><td style=\"text-align: right;\">               10</td><td style=\"text-align: right;\">      </td><td style=\"text-align: right;\">                </td><td style=\"text-align: right;\">       </td></tr>\n",
              "</tbody>\n",
              "</table><br><br>"
            ],
            "text/plain": [
              "<IPython.core.display.HTML object>"
            ]
          },
          "metadata": {}
        },
        {
          "output_type": "display_data",
          "data": {
            "text/html": [
              "== Status ==<br>Current time: 2022-01-24 15:28:16 (running for 00:00:47.35)<br>Memory usage on this node: 3.3/12.7 GiB<br>Using FIFO scheduling algorithm.<br>Resources requested: 1.0/2 CPUs, 1.0/1 GPUs, 0.0/6.99 GiB heap, 0.0/3.5 GiB objects (0.0/1.0 accelerator_type:K80)<br>Current best trial: 24539_00000 with loss=20.71133804321289 and parameters={'lr': 0.1, 'lr_inner': 0.1, 'num_inner_steps': 3}<br>Result logdir: /root/ray_results/train_model<br>Number of trials: 10/10 (9 PENDING, 1 RUNNING)<br><table>\n",
              "<thead>\n",
              "<tr><th>Trial name             </th><th>status  </th><th>loc            </th><th style=\"text-align: right;\">    lr</th><th style=\"text-align: right;\">  lr_inner</th><th style=\"text-align: right;\">  num_inner_steps</th><th style=\"text-align: right;\">  iter</th><th style=\"text-align: right;\">  total time (s)</th><th style=\"text-align: right;\">   loss</th></tr>\n",
              "</thead>\n",
              "<tbody>\n",
              "<tr><td>train_model_24539_00000</td><td>RUNNING </td><td>172.28.0.2:5510</td><td style=\"text-align: right;\">0.1   </td><td style=\"text-align: right;\">    0.1   </td><td style=\"text-align: right;\">                3</td><td style=\"text-align: right;\">     1</td><td style=\"text-align: right;\">         36.7494</td><td style=\"text-align: right;\">20.7113</td></tr>\n",
              "<tr><td>train_model_24539_00001</td><td>PENDING </td><td>               </td><td style=\"text-align: right;\">0.001 </td><td style=\"text-align: right;\">    0.0001</td><td style=\"text-align: right;\">                5</td><td style=\"text-align: right;\">      </td><td style=\"text-align: right;\">                </td><td style=\"text-align: right;\">       </td></tr>\n",
              "<tr><td>train_model_24539_00002</td><td>PENDING </td><td>               </td><td style=\"text-align: right;\">0.001 </td><td style=\"text-align: right;\">    0.0001</td><td style=\"text-align: right;\">                8</td><td style=\"text-align: right;\">      </td><td style=\"text-align: right;\">                </td><td style=\"text-align: right;\">       </td></tr>\n",
              "<tr><td>train_model_24539_00003</td><td>PENDING </td><td>               </td><td style=\"text-align: right;\">0.0001</td><td style=\"text-align: right;\">    0.1   </td><td style=\"text-align: right;\">                3</td><td style=\"text-align: right;\">      </td><td style=\"text-align: right;\">                </td><td style=\"text-align: right;\">       </td></tr>\n",
              "<tr><td>train_model_24539_00004</td><td>PENDING </td><td>               </td><td style=\"text-align: right;\">0.01  </td><td style=\"text-align: right;\">    0.01  </td><td style=\"text-align: right;\">                3</td><td style=\"text-align: right;\">      </td><td style=\"text-align: right;\">                </td><td style=\"text-align: right;\">       </td></tr>\n",
              "<tr><td>train_model_24539_00005</td><td>PENDING </td><td>               </td><td style=\"text-align: right;\">0.01  </td><td style=\"text-align: right;\">    0.01  </td><td style=\"text-align: right;\">                8</td><td style=\"text-align: right;\">      </td><td style=\"text-align: right;\">                </td><td style=\"text-align: right;\">       </td></tr>\n",
              "<tr><td>train_model_24539_00006</td><td>PENDING </td><td>               </td><td style=\"text-align: right;\">0.001 </td><td style=\"text-align: right;\">    0.0001</td><td style=\"text-align: right;\">               10</td><td style=\"text-align: right;\">      </td><td style=\"text-align: right;\">                </td><td style=\"text-align: right;\">       </td></tr>\n",
              "<tr><td>train_model_24539_00007</td><td>PENDING </td><td>               </td><td style=\"text-align: right;\">0.01  </td><td style=\"text-align: right;\">    0.01  </td><td style=\"text-align: right;\">                8</td><td style=\"text-align: right;\">      </td><td style=\"text-align: right;\">                </td><td style=\"text-align: right;\">       </td></tr>\n",
              "<tr><td>train_model_24539_00008</td><td>PENDING </td><td>               </td><td style=\"text-align: right;\">0.01  </td><td style=\"text-align: right;\">    0.01  </td><td style=\"text-align: right;\">                3</td><td style=\"text-align: right;\">      </td><td style=\"text-align: right;\">                </td><td style=\"text-align: right;\">       </td></tr>\n",
              "<tr><td>train_model_24539_00009</td><td>PENDING </td><td>               </td><td style=\"text-align: right;\">0.01  </td><td style=\"text-align: right;\">    0.1   </td><td style=\"text-align: right;\">               10</td><td style=\"text-align: right;\">      </td><td style=\"text-align: right;\">                </td><td style=\"text-align: right;\">       </td></tr>\n",
              "</tbody>\n",
              "</table><br><br>"
            ],
            "text/plain": [
              "<IPython.core.display.HTML object>"
            ]
          },
          "metadata": {}
        },
        {
          "output_type": "display_data",
          "data": {
            "text/html": [
              "== Status ==<br>Current time: 2022-01-24 15:28:21 (running for 00:00:52.40)<br>Memory usage on this node: 3.3/12.7 GiB<br>Using FIFO scheduling algorithm.<br>Resources requested: 1.0/2 CPUs, 1.0/1 GPUs, 0.0/6.99 GiB heap, 0.0/3.5 GiB objects (0.0/1.0 accelerator_type:K80)<br>Current best trial: 24539_00000 with loss=20.71133804321289 and parameters={'lr': 0.1, 'lr_inner': 0.1, 'num_inner_steps': 3}<br>Result logdir: /root/ray_results/train_model<br>Number of trials: 10/10 (9 PENDING, 1 RUNNING)<br><table>\n",
              "<thead>\n",
              "<tr><th>Trial name             </th><th>status  </th><th>loc            </th><th style=\"text-align: right;\">    lr</th><th style=\"text-align: right;\">  lr_inner</th><th style=\"text-align: right;\">  num_inner_steps</th><th style=\"text-align: right;\">  iter</th><th style=\"text-align: right;\">  total time (s)</th><th style=\"text-align: right;\">   loss</th></tr>\n",
              "</thead>\n",
              "<tbody>\n",
              "<tr><td>train_model_24539_00000</td><td>RUNNING </td><td>172.28.0.2:5510</td><td style=\"text-align: right;\">0.1   </td><td style=\"text-align: right;\">    0.1   </td><td style=\"text-align: right;\">                3</td><td style=\"text-align: right;\">     1</td><td style=\"text-align: right;\">         36.7494</td><td style=\"text-align: right;\">20.7113</td></tr>\n",
              "<tr><td>train_model_24539_00001</td><td>PENDING </td><td>               </td><td style=\"text-align: right;\">0.001 </td><td style=\"text-align: right;\">    0.0001</td><td style=\"text-align: right;\">                5</td><td style=\"text-align: right;\">      </td><td style=\"text-align: right;\">                </td><td style=\"text-align: right;\">       </td></tr>\n",
              "<tr><td>train_model_24539_00002</td><td>PENDING </td><td>               </td><td style=\"text-align: right;\">0.001 </td><td style=\"text-align: right;\">    0.0001</td><td style=\"text-align: right;\">                8</td><td style=\"text-align: right;\">      </td><td style=\"text-align: right;\">                </td><td style=\"text-align: right;\">       </td></tr>\n",
              "<tr><td>train_model_24539_00003</td><td>PENDING </td><td>               </td><td style=\"text-align: right;\">0.0001</td><td style=\"text-align: right;\">    0.1   </td><td style=\"text-align: right;\">                3</td><td style=\"text-align: right;\">      </td><td style=\"text-align: right;\">                </td><td style=\"text-align: right;\">       </td></tr>\n",
              "<tr><td>train_model_24539_00004</td><td>PENDING </td><td>               </td><td style=\"text-align: right;\">0.01  </td><td style=\"text-align: right;\">    0.01  </td><td style=\"text-align: right;\">                3</td><td style=\"text-align: right;\">      </td><td style=\"text-align: right;\">                </td><td style=\"text-align: right;\">       </td></tr>\n",
              "<tr><td>train_model_24539_00005</td><td>PENDING </td><td>               </td><td style=\"text-align: right;\">0.01  </td><td style=\"text-align: right;\">    0.01  </td><td style=\"text-align: right;\">                8</td><td style=\"text-align: right;\">      </td><td style=\"text-align: right;\">                </td><td style=\"text-align: right;\">       </td></tr>\n",
              "<tr><td>train_model_24539_00006</td><td>PENDING </td><td>               </td><td style=\"text-align: right;\">0.001 </td><td style=\"text-align: right;\">    0.0001</td><td style=\"text-align: right;\">               10</td><td style=\"text-align: right;\">      </td><td style=\"text-align: right;\">                </td><td style=\"text-align: right;\">       </td></tr>\n",
              "<tr><td>train_model_24539_00007</td><td>PENDING </td><td>               </td><td style=\"text-align: right;\">0.01  </td><td style=\"text-align: right;\">    0.01  </td><td style=\"text-align: right;\">                8</td><td style=\"text-align: right;\">      </td><td style=\"text-align: right;\">                </td><td style=\"text-align: right;\">       </td></tr>\n",
              "<tr><td>train_model_24539_00008</td><td>PENDING </td><td>               </td><td style=\"text-align: right;\">0.01  </td><td style=\"text-align: right;\">    0.01  </td><td style=\"text-align: right;\">                3</td><td style=\"text-align: right;\">      </td><td style=\"text-align: right;\">                </td><td style=\"text-align: right;\">       </td></tr>\n",
              "<tr><td>train_model_24539_00009</td><td>PENDING </td><td>               </td><td style=\"text-align: right;\">0.01  </td><td style=\"text-align: right;\">    0.1   </td><td style=\"text-align: right;\">               10</td><td style=\"text-align: right;\">      </td><td style=\"text-align: right;\">                </td><td style=\"text-align: right;\">       </td></tr>\n",
              "</tbody>\n",
              "</table><br><br>"
            ],
            "text/plain": [
              "<IPython.core.display.HTML object>"
            ]
          },
          "metadata": {}
        },
        {
          "output_type": "display_data",
          "data": {
            "text/html": [
              "== Status ==<br>Current time: 2022-01-24 15:28:26 (running for 00:00:57.43)<br>Memory usage on this node: 3.3/12.7 GiB<br>Using FIFO scheduling algorithm.<br>Resources requested: 1.0/2 CPUs, 1.0/1 GPUs, 0.0/6.99 GiB heap, 0.0/3.5 GiB objects (0.0/1.0 accelerator_type:K80)<br>Current best trial: 24539_00000 with loss=20.71133804321289 and parameters={'lr': 0.1, 'lr_inner': 0.1, 'num_inner_steps': 3}<br>Result logdir: /root/ray_results/train_model<br>Number of trials: 10/10 (9 PENDING, 1 RUNNING)<br><table>\n",
              "<thead>\n",
              "<tr><th>Trial name             </th><th>status  </th><th>loc            </th><th style=\"text-align: right;\">    lr</th><th style=\"text-align: right;\">  lr_inner</th><th style=\"text-align: right;\">  num_inner_steps</th><th style=\"text-align: right;\">  iter</th><th style=\"text-align: right;\">  total time (s)</th><th style=\"text-align: right;\">   loss</th></tr>\n",
              "</thead>\n",
              "<tbody>\n",
              "<tr><td>train_model_24539_00000</td><td>RUNNING </td><td>172.28.0.2:5510</td><td style=\"text-align: right;\">0.1   </td><td style=\"text-align: right;\">    0.1   </td><td style=\"text-align: right;\">                3</td><td style=\"text-align: right;\">     1</td><td style=\"text-align: right;\">         36.7494</td><td style=\"text-align: right;\">20.7113</td></tr>\n",
              "<tr><td>train_model_24539_00001</td><td>PENDING </td><td>               </td><td style=\"text-align: right;\">0.001 </td><td style=\"text-align: right;\">    0.0001</td><td style=\"text-align: right;\">                5</td><td style=\"text-align: right;\">      </td><td style=\"text-align: right;\">                </td><td style=\"text-align: right;\">       </td></tr>\n",
              "<tr><td>train_model_24539_00002</td><td>PENDING </td><td>               </td><td style=\"text-align: right;\">0.001 </td><td style=\"text-align: right;\">    0.0001</td><td style=\"text-align: right;\">                8</td><td style=\"text-align: right;\">      </td><td style=\"text-align: right;\">                </td><td style=\"text-align: right;\">       </td></tr>\n",
              "<tr><td>train_model_24539_00003</td><td>PENDING </td><td>               </td><td style=\"text-align: right;\">0.0001</td><td style=\"text-align: right;\">    0.1   </td><td style=\"text-align: right;\">                3</td><td style=\"text-align: right;\">      </td><td style=\"text-align: right;\">                </td><td style=\"text-align: right;\">       </td></tr>\n",
              "<tr><td>train_model_24539_00004</td><td>PENDING </td><td>               </td><td style=\"text-align: right;\">0.01  </td><td style=\"text-align: right;\">    0.01  </td><td style=\"text-align: right;\">                3</td><td style=\"text-align: right;\">      </td><td style=\"text-align: right;\">                </td><td style=\"text-align: right;\">       </td></tr>\n",
              "<tr><td>train_model_24539_00005</td><td>PENDING </td><td>               </td><td style=\"text-align: right;\">0.01  </td><td style=\"text-align: right;\">    0.01  </td><td style=\"text-align: right;\">                8</td><td style=\"text-align: right;\">      </td><td style=\"text-align: right;\">                </td><td style=\"text-align: right;\">       </td></tr>\n",
              "<tr><td>train_model_24539_00006</td><td>PENDING </td><td>               </td><td style=\"text-align: right;\">0.001 </td><td style=\"text-align: right;\">    0.0001</td><td style=\"text-align: right;\">               10</td><td style=\"text-align: right;\">      </td><td style=\"text-align: right;\">                </td><td style=\"text-align: right;\">       </td></tr>\n",
              "<tr><td>train_model_24539_00007</td><td>PENDING </td><td>               </td><td style=\"text-align: right;\">0.01  </td><td style=\"text-align: right;\">    0.01  </td><td style=\"text-align: right;\">                8</td><td style=\"text-align: right;\">      </td><td style=\"text-align: right;\">                </td><td style=\"text-align: right;\">       </td></tr>\n",
              "<tr><td>train_model_24539_00008</td><td>PENDING </td><td>               </td><td style=\"text-align: right;\">0.01  </td><td style=\"text-align: right;\">    0.01  </td><td style=\"text-align: right;\">                3</td><td style=\"text-align: right;\">      </td><td style=\"text-align: right;\">                </td><td style=\"text-align: right;\">       </td></tr>\n",
              "<tr><td>train_model_24539_00009</td><td>PENDING </td><td>               </td><td style=\"text-align: right;\">0.01  </td><td style=\"text-align: right;\">    0.1   </td><td style=\"text-align: right;\">               10</td><td style=\"text-align: right;\">      </td><td style=\"text-align: right;\">                </td><td style=\"text-align: right;\">       </td></tr>\n",
              "</tbody>\n",
              "</table><br><br>"
            ],
            "text/plain": [
              "<IPython.core.display.HTML object>"
            ]
          },
          "metadata": {}
        },
        {
          "output_type": "display_data",
          "data": {
            "text/html": [
              "== Status ==<br>Current time: 2022-01-24 15:28:31 (running for 00:01:02.47)<br>Memory usage on this node: 3.3/12.7 GiB<br>Using FIFO scheduling algorithm.<br>Resources requested: 1.0/2 CPUs, 1.0/1 GPUs, 0.0/6.99 GiB heap, 0.0/3.5 GiB objects (0.0/1.0 accelerator_type:K80)<br>Current best trial: 24539_00000 with loss=20.71133804321289 and parameters={'lr': 0.1, 'lr_inner': 0.1, 'num_inner_steps': 3}<br>Result logdir: /root/ray_results/train_model<br>Number of trials: 10/10 (9 PENDING, 1 RUNNING)<br><table>\n",
              "<thead>\n",
              "<tr><th>Trial name             </th><th>status  </th><th>loc            </th><th style=\"text-align: right;\">    lr</th><th style=\"text-align: right;\">  lr_inner</th><th style=\"text-align: right;\">  num_inner_steps</th><th style=\"text-align: right;\">  iter</th><th style=\"text-align: right;\">  total time (s)</th><th style=\"text-align: right;\">   loss</th></tr>\n",
              "</thead>\n",
              "<tbody>\n",
              "<tr><td>train_model_24539_00000</td><td>RUNNING </td><td>172.28.0.2:5510</td><td style=\"text-align: right;\">0.1   </td><td style=\"text-align: right;\">    0.1   </td><td style=\"text-align: right;\">                3</td><td style=\"text-align: right;\">     1</td><td style=\"text-align: right;\">         36.7494</td><td style=\"text-align: right;\">20.7113</td></tr>\n",
              "<tr><td>train_model_24539_00001</td><td>PENDING </td><td>               </td><td style=\"text-align: right;\">0.001 </td><td style=\"text-align: right;\">    0.0001</td><td style=\"text-align: right;\">                5</td><td style=\"text-align: right;\">      </td><td style=\"text-align: right;\">                </td><td style=\"text-align: right;\">       </td></tr>\n",
              "<tr><td>train_model_24539_00002</td><td>PENDING </td><td>               </td><td style=\"text-align: right;\">0.001 </td><td style=\"text-align: right;\">    0.0001</td><td style=\"text-align: right;\">                8</td><td style=\"text-align: right;\">      </td><td style=\"text-align: right;\">                </td><td style=\"text-align: right;\">       </td></tr>\n",
              "<tr><td>train_model_24539_00003</td><td>PENDING </td><td>               </td><td style=\"text-align: right;\">0.0001</td><td style=\"text-align: right;\">    0.1   </td><td style=\"text-align: right;\">                3</td><td style=\"text-align: right;\">      </td><td style=\"text-align: right;\">                </td><td style=\"text-align: right;\">       </td></tr>\n",
              "<tr><td>train_model_24539_00004</td><td>PENDING </td><td>               </td><td style=\"text-align: right;\">0.01  </td><td style=\"text-align: right;\">    0.01  </td><td style=\"text-align: right;\">                3</td><td style=\"text-align: right;\">      </td><td style=\"text-align: right;\">                </td><td style=\"text-align: right;\">       </td></tr>\n",
              "<tr><td>train_model_24539_00005</td><td>PENDING </td><td>               </td><td style=\"text-align: right;\">0.01  </td><td style=\"text-align: right;\">    0.01  </td><td style=\"text-align: right;\">                8</td><td style=\"text-align: right;\">      </td><td style=\"text-align: right;\">                </td><td style=\"text-align: right;\">       </td></tr>\n",
              "<tr><td>train_model_24539_00006</td><td>PENDING </td><td>               </td><td style=\"text-align: right;\">0.001 </td><td style=\"text-align: right;\">    0.0001</td><td style=\"text-align: right;\">               10</td><td style=\"text-align: right;\">      </td><td style=\"text-align: right;\">                </td><td style=\"text-align: right;\">       </td></tr>\n",
              "<tr><td>train_model_24539_00007</td><td>PENDING </td><td>               </td><td style=\"text-align: right;\">0.01  </td><td style=\"text-align: right;\">    0.01  </td><td style=\"text-align: right;\">                8</td><td style=\"text-align: right;\">      </td><td style=\"text-align: right;\">                </td><td style=\"text-align: right;\">       </td></tr>\n",
              "<tr><td>train_model_24539_00008</td><td>PENDING </td><td>               </td><td style=\"text-align: right;\">0.01  </td><td style=\"text-align: right;\">    0.01  </td><td style=\"text-align: right;\">                3</td><td style=\"text-align: right;\">      </td><td style=\"text-align: right;\">                </td><td style=\"text-align: right;\">       </td></tr>\n",
              "<tr><td>train_model_24539_00009</td><td>PENDING </td><td>               </td><td style=\"text-align: right;\">0.01  </td><td style=\"text-align: right;\">    0.1   </td><td style=\"text-align: right;\">               10</td><td style=\"text-align: right;\">      </td><td style=\"text-align: right;\">                </td><td style=\"text-align: right;\">       </td></tr>\n",
              "</tbody>\n",
              "</table><br><br>"
            ],
            "text/plain": [
              "<IPython.core.display.HTML object>"
            ]
          },
          "metadata": {}
        },
        {
          "output_type": "stream",
          "name": "stderr",
          "text": [
            "\u001b[2m\u001b[36m(ImplicitFunc pid=5510)\u001b[0m /usr/local/lib/python3.7/dist-packages/ray/workers/default_worker.py:24: UserWarning: The given NumPy array is not writeable, and PyTorch does not support non-writeable tensors. This means you can write to the underlying (supposedly non-writeable) NumPy array using the tensor. You may want to copy the array to protect its data or make it writeable before converting it to a tensor. This type of warning will be suppressed for the rest of this program. (Triggered internally at  ../torch/csrc/utils/tensor_numpy.cpp:189.)\n",
            "\u001b[2m\u001b[36m(ImplicitFunc pid=5510)\u001b[0m   help=\"the ip address of the worker's node\")\n",
            "\u001b[2m\u001b[36m(ImplicitFunc pid=5510)\u001b[0m /usr/local/lib/python3.7/dist-packages/ray/workers/default_worker.py:24: UserWarning: The given NumPy array is not writeable, and PyTorch does not support non-writeable tensors. This means you can write to the underlying (supposedly non-writeable) NumPy array using the tensor. You may want to copy the array to protect its data or make it writeable before converting it to a tensor. This type of warning will be suppressed for the rest of this program. (Triggered internally at  ../torch/csrc/utils/tensor_numpy.cpp:189.)\n",
            "\u001b[2m\u001b[36m(ImplicitFunc pid=5510)\u001b[0m   help=\"the ip address of the worker's node\")\n"
          ]
        },
        {
          "output_type": "display_data",
          "data": {
            "text/html": [
              "== Status ==<br>Current time: 2022-01-24 15:28:36 (running for 00:01:07.51)<br>Memory usage on this node: 3.3/12.7 GiB<br>Using FIFO scheduling algorithm.<br>Resources requested: 1.0/2 CPUs, 1.0/1 GPUs, 0.0/6.99 GiB heap, 0.0/3.5 GiB objects (0.0/1.0 accelerator_type:K80)<br>Current best trial: 24539_00000 with loss=20.71133804321289 and parameters={'lr': 0.1, 'lr_inner': 0.1, 'num_inner_steps': 3}<br>Result logdir: /root/ray_results/train_model<br>Number of trials: 10/10 (9 PENDING, 1 RUNNING)<br><table>\n",
              "<thead>\n",
              "<tr><th>Trial name             </th><th>status  </th><th>loc            </th><th style=\"text-align: right;\">    lr</th><th style=\"text-align: right;\">  lr_inner</th><th style=\"text-align: right;\">  num_inner_steps</th><th style=\"text-align: right;\">  iter</th><th style=\"text-align: right;\">  total time (s)</th><th style=\"text-align: right;\">   loss</th></tr>\n",
              "</thead>\n",
              "<tbody>\n",
              "<tr><td>train_model_24539_00000</td><td>RUNNING </td><td>172.28.0.2:5510</td><td style=\"text-align: right;\">0.1   </td><td style=\"text-align: right;\">    0.1   </td><td style=\"text-align: right;\">                3</td><td style=\"text-align: right;\">     1</td><td style=\"text-align: right;\">         36.7494</td><td style=\"text-align: right;\">20.7113</td></tr>\n",
              "<tr><td>train_model_24539_00001</td><td>PENDING </td><td>               </td><td style=\"text-align: right;\">0.001 </td><td style=\"text-align: right;\">    0.0001</td><td style=\"text-align: right;\">                5</td><td style=\"text-align: right;\">      </td><td style=\"text-align: right;\">                </td><td style=\"text-align: right;\">       </td></tr>\n",
              "<tr><td>train_model_24539_00002</td><td>PENDING </td><td>               </td><td style=\"text-align: right;\">0.001 </td><td style=\"text-align: right;\">    0.0001</td><td style=\"text-align: right;\">                8</td><td style=\"text-align: right;\">      </td><td style=\"text-align: right;\">                </td><td style=\"text-align: right;\">       </td></tr>\n",
              "<tr><td>train_model_24539_00003</td><td>PENDING </td><td>               </td><td style=\"text-align: right;\">0.0001</td><td style=\"text-align: right;\">    0.1   </td><td style=\"text-align: right;\">                3</td><td style=\"text-align: right;\">      </td><td style=\"text-align: right;\">                </td><td style=\"text-align: right;\">       </td></tr>\n",
              "<tr><td>train_model_24539_00004</td><td>PENDING </td><td>               </td><td style=\"text-align: right;\">0.01  </td><td style=\"text-align: right;\">    0.01  </td><td style=\"text-align: right;\">                3</td><td style=\"text-align: right;\">      </td><td style=\"text-align: right;\">                </td><td style=\"text-align: right;\">       </td></tr>\n",
              "<tr><td>train_model_24539_00005</td><td>PENDING </td><td>               </td><td style=\"text-align: right;\">0.01  </td><td style=\"text-align: right;\">    0.01  </td><td style=\"text-align: right;\">                8</td><td style=\"text-align: right;\">      </td><td style=\"text-align: right;\">                </td><td style=\"text-align: right;\">       </td></tr>\n",
              "<tr><td>train_model_24539_00006</td><td>PENDING </td><td>               </td><td style=\"text-align: right;\">0.001 </td><td style=\"text-align: right;\">    0.0001</td><td style=\"text-align: right;\">               10</td><td style=\"text-align: right;\">      </td><td style=\"text-align: right;\">                </td><td style=\"text-align: right;\">       </td></tr>\n",
              "<tr><td>train_model_24539_00007</td><td>PENDING </td><td>               </td><td style=\"text-align: right;\">0.01  </td><td style=\"text-align: right;\">    0.01  </td><td style=\"text-align: right;\">                8</td><td style=\"text-align: right;\">      </td><td style=\"text-align: right;\">                </td><td style=\"text-align: right;\">       </td></tr>\n",
              "<tr><td>train_model_24539_00008</td><td>PENDING </td><td>               </td><td style=\"text-align: right;\">0.01  </td><td style=\"text-align: right;\">    0.01  </td><td style=\"text-align: right;\">                3</td><td style=\"text-align: right;\">      </td><td style=\"text-align: right;\">                </td><td style=\"text-align: right;\">       </td></tr>\n",
              "<tr><td>train_model_24539_00009</td><td>PENDING </td><td>               </td><td style=\"text-align: right;\">0.01  </td><td style=\"text-align: right;\">    0.1   </td><td style=\"text-align: right;\">               10</td><td style=\"text-align: right;\">      </td><td style=\"text-align: right;\">                </td><td style=\"text-align: right;\">       </td></tr>\n",
              "</tbody>\n",
              "</table><br><br>"
            ],
            "text/plain": [
              "<IPython.core.display.HTML object>"
            ]
          },
          "metadata": {}
        },
        {
          "output_type": "stream",
          "name": "stdout",
          "text": [
            "Result for train_model_24539_00000:\n",
            "  date: 2022-01-24_15-28-39\n",
            "  done: false\n",
            "  experiment_id: 33e8d81ad38b44adbf5bb0778168d613\n",
            "  hostname: dfa2a0b682a2\n",
            "  iterations_since_restore: 2\n",
            "  loss: 19.072946548461914\n",
            "  node_ip: 172.28.0.2\n",
            "  pid: 5510\n",
            "  time_since_restore: 67.76050162315369\n",
            "  time_this_iter_s: 31.01110029220581\n",
            "  time_total_s: 67.76050162315369\n",
            "  timestamp: 1643038119\n",
            "  timesteps_since_restore: 0\n",
            "  training_iteration: 2\n",
            "  trial_id: '24539_00000'\n",
            "  \n"
          ]
        },
        {
          "output_type": "stream",
          "name": "stderr",
          "text": [
            "\u001b[2m\u001b[36m(ImplicitFunc pid=5510)\u001b[0m /usr/local/lib/python3.7/dist-packages/ray/workers/default_worker.py:24: UserWarning: The given NumPy array is not writeable, and PyTorch does not support non-writeable tensors. This means you can write to the underlying (supposedly non-writeable) NumPy array using the tensor. You may want to copy the array to protect its data or make it writeable before converting it to a tensor. This type of warning will be suppressed for the rest of this program. (Triggered internally at  ../torch/csrc/utils/tensor_numpy.cpp:189.)\n",
            "\u001b[2m\u001b[36m(ImplicitFunc pid=5510)\u001b[0m   help=\"the ip address of the worker's node\")\n",
            "\u001b[2m\u001b[36m(ImplicitFunc pid=5510)\u001b[0m /usr/local/lib/python3.7/dist-packages/ray/workers/default_worker.py:24: UserWarning: The given NumPy array is not writeable, and PyTorch does not support non-writeable tensors. This means you can write to the underlying (supposedly non-writeable) NumPy array using the tensor. You may want to copy the array to protect its data or make it writeable before converting it to a tensor. This type of warning will be suppressed for the rest of this program. (Triggered internally at  ../torch/csrc/utils/tensor_numpy.cpp:189.)\n",
            "\u001b[2m\u001b[36m(ImplicitFunc pid=5510)\u001b[0m   help=\"the ip address of the worker's node\")\n"
          ]
        },
        {
          "output_type": "display_data",
          "data": {
            "text/html": [
              "== Status ==<br>Current time: 2022-01-24 15:28:42 (running for 00:01:13.32)<br>Memory usage on this node: 3.3/12.7 GiB<br>Using FIFO scheduling algorithm.<br>Resources requested: 1.0/2 CPUs, 1.0/1 GPUs, 0.0/6.99 GiB heap, 0.0/3.5 GiB objects (0.0/1.0 accelerator_type:K80)<br>Current best trial: 24539_00000 with loss=19.072946548461914 and parameters={'lr': 0.1, 'lr_inner': 0.1, 'num_inner_steps': 3}<br>Result logdir: /root/ray_results/train_model<br>Number of trials: 10/10 (9 PENDING, 1 RUNNING)<br><table>\n",
              "<thead>\n",
              "<tr><th>Trial name             </th><th>status  </th><th>loc            </th><th style=\"text-align: right;\">    lr</th><th style=\"text-align: right;\">  lr_inner</th><th style=\"text-align: right;\">  num_inner_steps</th><th style=\"text-align: right;\">  iter</th><th style=\"text-align: right;\">  total time (s)</th><th style=\"text-align: right;\">   loss</th></tr>\n",
              "</thead>\n",
              "<tbody>\n",
              "<tr><td>train_model_24539_00000</td><td>RUNNING </td><td>172.28.0.2:5510</td><td style=\"text-align: right;\">0.1   </td><td style=\"text-align: right;\">    0.1   </td><td style=\"text-align: right;\">                3</td><td style=\"text-align: right;\">     2</td><td style=\"text-align: right;\">         67.7605</td><td style=\"text-align: right;\">19.0729</td></tr>\n",
              "<tr><td>train_model_24539_00001</td><td>PENDING </td><td>               </td><td style=\"text-align: right;\">0.001 </td><td style=\"text-align: right;\">    0.0001</td><td style=\"text-align: right;\">                5</td><td style=\"text-align: right;\">      </td><td style=\"text-align: right;\">                </td><td style=\"text-align: right;\">       </td></tr>\n",
              "<tr><td>train_model_24539_00002</td><td>PENDING </td><td>               </td><td style=\"text-align: right;\">0.001 </td><td style=\"text-align: right;\">    0.0001</td><td style=\"text-align: right;\">                8</td><td style=\"text-align: right;\">      </td><td style=\"text-align: right;\">                </td><td style=\"text-align: right;\">       </td></tr>\n",
              "<tr><td>train_model_24539_00003</td><td>PENDING </td><td>               </td><td style=\"text-align: right;\">0.0001</td><td style=\"text-align: right;\">    0.1   </td><td style=\"text-align: right;\">                3</td><td style=\"text-align: right;\">      </td><td style=\"text-align: right;\">                </td><td style=\"text-align: right;\">       </td></tr>\n",
              "<tr><td>train_model_24539_00004</td><td>PENDING </td><td>               </td><td style=\"text-align: right;\">0.01  </td><td style=\"text-align: right;\">    0.01  </td><td style=\"text-align: right;\">                3</td><td style=\"text-align: right;\">      </td><td style=\"text-align: right;\">                </td><td style=\"text-align: right;\">       </td></tr>\n",
              "<tr><td>train_model_24539_00005</td><td>PENDING </td><td>               </td><td style=\"text-align: right;\">0.01  </td><td style=\"text-align: right;\">    0.01  </td><td style=\"text-align: right;\">                8</td><td style=\"text-align: right;\">      </td><td style=\"text-align: right;\">                </td><td style=\"text-align: right;\">       </td></tr>\n",
              "<tr><td>train_model_24539_00006</td><td>PENDING </td><td>               </td><td style=\"text-align: right;\">0.001 </td><td style=\"text-align: right;\">    0.0001</td><td style=\"text-align: right;\">               10</td><td style=\"text-align: right;\">      </td><td style=\"text-align: right;\">                </td><td style=\"text-align: right;\">       </td></tr>\n",
              "<tr><td>train_model_24539_00007</td><td>PENDING </td><td>               </td><td style=\"text-align: right;\">0.01  </td><td style=\"text-align: right;\">    0.01  </td><td style=\"text-align: right;\">                8</td><td style=\"text-align: right;\">      </td><td style=\"text-align: right;\">                </td><td style=\"text-align: right;\">       </td></tr>\n",
              "<tr><td>train_model_24539_00008</td><td>PENDING </td><td>               </td><td style=\"text-align: right;\">0.01  </td><td style=\"text-align: right;\">    0.01  </td><td style=\"text-align: right;\">                3</td><td style=\"text-align: right;\">      </td><td style=\"text-align: right;\">                </td><td style=\"text-align: right;\">       </td></tr>\n",
              "<tr><td>train_model_24539_00009</td><td>PENDING </td><td>               </td><td style=\"text-align: right;\">0.01  </td><td style=\"text-align: right;\">    0.1   </td><td style=\"text-align: right;\">               10</td><td style=\"text-align: right;\">      </td><td style=\"text-align: right;\">                </td><td style=\"text-align: right;\">       </td></tr>\n",
              "</tbody>\n",
              "</table><br><br>"
            ],
            "text/plain": [
              "<IPython.core.display.HTML object>"
            ]
          },
          "metadata": {}
        },
        {
          "output_type": "display_data",
          "data": {
            "text/html": [
              "== Status ==<br>Current time: 2022-01-24 15:28:47 (running for 00:01:18.34)<br>Memory usage on this node: 3.4/12.7 GiB<br>Using FIFO scheduling algorithm.<br>Resources requested: 1.0/2 CPUs, 1.0/1 GPUs, 0.0/6.99 GiB heap, 0.0/3.5 GiB objects (0.0/1.0 accelerator_type:K80)<br>Current best trial: 24539_00000 with loss=19.072946548461914 and parameters={'lr': 0.1, 'lr_inner': 0.1, 'num_inner_steps': 3}<br>Result logdir: /root/ray_results/train_model<br>Number of trials: 10/10 (9 PENDING, 1 RUNNING)<br><table>\n",
              "<thead>\n",
              "<tr><th>Trial name             </th><th>status  </th><th>loc            </th><th style=\"text-align: right;\">    lr</th><th style=\"text-align: right;\">  lr_inner</th><th style=\"text-align: right;\">  num_inner_steps</th><th style=\"text-align: right;\">  iter</th><th style=\"text-align: right;\">  total time (s)</th><th style=\"text-align: right;\">   loss</th></tr>\n",
              "</thead>\n",
              "<tbody>\n",
              "<tr><td>train_model_24539_00000</td><td>RUNNING </td><td>172.28.0.2:5510</td><td style=\"text-align: right;\">0.1   </td><td style=\"text-align: right;\">    0.1   </td><td style=\"text-align: right;\">                3</td><td style=\"text-align: right;\">     2</td><td style=\"text-align: right;\">         67.7605</td><td style=\"text-align: right;\">19.0729</td></tr>\n",
              "<tr><td>train_model_24539_00001</td><td>PENDING </td><td>               </td><td style=\"text-align: right;\">0.001 </td><td style=\"text-align: right;\">    0.0001</td><td style=\"text-align: right;\">                5</td><td style=\"text-align: right;\">      </td><td style=\"text-align: right;\">                </td><td style=\"text-align: right;\">       </td></tr>\n",
              "<tr><td>train_model_24539_00002</td><td>PENDING </td><td>               </td><td style=\"text-align: right;\">0.001 </td><td style=\"text-align: right;\">    0.0001</td><td style=\"text-align: right;\">                8</td><td style=\"text-align: right;\">      </td><td style=\"text-align: right;\">                </td><td style=\"text-align: right;\">       </td></tr>\n",
              "<tr><td>train_model_24539_00003</td><td>PENDING </td><td>               </td><td style=\"text-align: right;\">0.0001</td><td style=\"text-align: right;\">    0.1   </td><td style=\"text-align: right;\">                3</td><td style=\"text-align: right;\">      </td><td style=\"text-align: right;\">                </td><td style=\"text-align: right;\">       </td></tr>\n",
              "<tr><td>train_model_24539_00004</td><td>PENDING </td><td>               </td><td style=\"text-align: right;\">0.01  </td><td style=\"text-align: right;\">    0.01  </td><td style=\"text-align: right;\">                3</td><td style=\"text-align: right;\">      </td><td style=\"text-align: right;\">                </td><td style=\"text-align: right;\">       </td></tr>\n",
              "<tr><td>train_model_24539_00005</td><td>PENDING </td><td>               </td><td style=\"text-align: right;\">0.01  </td><td style=\"text-align: right;\">    0.01  </td><td style=\"text-align: right;\">                8</td><td style=\"text-align: right;\">      </td><td style=\"text-align: right;\">                </td><td style=\"text-align: right;\">       </td></tr>\n",
              "<tr><td>train_model_24539_00006</td><td>PENDING </td><td>               </td><td style=\"text-align: right;\">0.001 </td><td style=\"text-align: right;\">    0.0001</td><td style=\"text-align: right;\">               10</td><td style=\"text-align: right;\">      </td><td style=\"text-align: right;\">                </td><td style=\"text-align: right;\">       </td></tr>\n",
              "<tr><td>train_model_24539_00007</td><td>PENDING </td><td>               </td><td style=\"text-align: right;\">0.01  </td><td style=\"text-align: right;\">    0.01  </td><td style=\"text-align: right;\">                8</td><td style=\"text-align: right;\">      </td><td style=\"text-align: right;\">                </td><td style=\"text-align: right;\">       </td></tr>\n",
              "<tr><td>train_model_24539_00008</td><td>PENDING </td><td>               </td><td style=\"text-align: right;\">0.01  </td><td style=\"text-align: right;\">    0.01  </td><td style=\"text-align: right;\">                3</td><td style=\"text-align: right;\">      </td><td style=\"text-align: right;\">                </td><td style=\"text-align: right;\">       </td></tr>\n",
              "<tr><td>train_model_24539_00009</td><td>PENDING </td><td>               </td><td style=\"text-align: right;\">0.01  </td><td style=\"text-align: right;\">    0.1   </td><td style=\"text-align: right;\">               10</td><td style=\"text-align: right;\">      </td><td style=\"text-align: right;\">                </td><td style=\"text-align: right;\">       </td></tr>\n",
              "</tbody>\n",
              "</table><br><br>"
            ],
            "text/plain": [
              "<IPython.core.display.HTML object>"
            ]
          },
          "metadata": {}
        },
        {
          "output_type": "display_data",
          "data": {
            "text/html": [
              "== Status ==<br>Current time: 2022-01-24 15:28:52 (running for 00:01:23.39)<br>Memory usage on this node: 3.5/12.7 GiB<br>Using FIFO scheduling algorithm.<br>Resources requested: 1.0/2 CPUs, 1.0/1 GPUs, 0.0/6.99 GiB heap, 0.0/3.5 GiB objects (0.0/1.0 accelerator_type:K80)<br>Current best trial: 24539_00000 with loss=19.072946548461914 and parameters={'lr': 0.1, 'lr_inner': 0.1, 'num_inner_steps': 3}<br>Result logdir: /root/ray_results/train_model<br>Number of trials: 10/10 (9 PENDING, 1 RUNNING)<br><table>\n",
              "<thead>\n",
              "<tr><th>Trial name             </th><th>status  </th><th>loc            </th><th style=\"text-align: right;\">    lr</th><th style=\"text-align: right;\">  lr_inner</th><th style=\"text-align: right;\">  num_inner_steps</th><th style=\"text-align: right;\">  iter</th><th style=\"text-align: right;\">  total time (s)</th><th style=\"text-align: right;\">   loss</th></tr>\n",
              "</thead>\n",
              "<tbody>\n",
              "<tr><td>train_model_24539_00000</td><td>RUNNING </td><td>172.28.0.2:5510</td><td style=\"text-align: right;\">0.1   </td><td style=\"text-align: right;\">    0.1   </td><td style=\"text-align: right;\">                3</td><td style=\"text-align: right;\">     2</td><td style=\"text-align: right;\">         67.7605</td><td style=\"text-align: right;\">19.0729</td></tr>\n",
              "<tr><td>train_model_24539_00001</td><td>PENDING </td><td>               </td><td style=\"text-align: right;\">0.001 </td><td style=\"text-align: right;\">    0.0001</td><td style=\"text-align: right;\">                5</td><td style=\"text-align: right;\">      </td><td style=\"text-align: right;\">                </td><td style=\"text-align: right;\">       </td></tr>\n",
              "<tr><td>train_model_24539_00002</td><td>PENDING </td><td>               </td><td style=\"text-align: right;\">0.001 </td><td style=\"text-align: right;\">    0.0001</td><td style=\"text-align: right;\">                8</td><td style=\"text-align: right;\">      </td><td style=\"text-align: right;\">                </td><td style=\"text-align: right;\">       </td></tr>\n",
              "<tr><td>train_model_24539_00003</td><td>PENDING </td><td>               </td><td style=\"text-align: right;\">0.0001</td><td style=\"text-align: right;\">    0.1   </td><td style=\"text-align: right;\">                3</td><td style=\"text-align: right;\">      </td><td style=\"text-align: right;\">                </td><td style=\"text-align: right;\">       </td></tr>\n",
              "<tr><td>train_model_24539_00004</td><td>PENDING </td><td>               </td><td style=\"text-align: right;\">0.01  </td><td style=\"text-align: right;\">    0.01  </td><td style=\"text-align: right;\">                3</td><td style=\"text-align: right;\">      </td><td style=\"text-align: right;\">                </td><td style=\"text-align: right;\">       </td></tr>\n",
              "<tr><td>train_model_24539_00005</td><td>PENDING </td><td>               </td><td style=\"text-align: right;\">0.01  </td><td style=\"text-align: right;\">    0.01  </td><td style=\"text-align: right;\">                8</td><td style=\"text-align: right;\">      </td><td style=\"text-align: right;\">                </td><td style=\"text-align: right;\">       </td></tr>\n",
              "<tr><td>train_model_24539_00006</td><td>PENDING </td><td>               </td><td style=\"text-align: right;\">0.001 </td><td style=\"text-align: right;\">    0.0001</td><td style=\"text-align: right;\">               10</td><td style=\"text-align: right;\">      </td><td style=\"text-align: right;\">                </td><td style=\"text-align: right;\">       </td></tr>\n",
              "<tr><td>train_model_24539_00007</td><td>PENDING </td><td>               </td><td style=\"text-align: right;\">0.01  </td><td style=\"text-align: right;\">    0.01  </td><td style=\"text-align: right;\">                8</td><td style=\"text-align: right;\">      </td><td style=\"text-align: right;\">                </td><td style=\"text-align: right;\">       </td></tr>\n",
              "<tr><td>train_model_24539_00008</td><td>PENDING </td><td>               </td><td style=\"text-align: right;\">0.01  </td><td style=\"text-align: right;\">    0.01  </td><td style=\"text-align: right;\">                3</td><td style=\"text-align: right;\">      </td><td style=\"text-align: right;\">                </td><td style=\"text-align: right;\">       </td></tr>\n",
              "<tr><td>train_model_24539_00009</td><td>PENDING </td><td>               </td><td style=\"text-align: right;\">0.01  </td><td style=\"text-align: right;\">    0.1   </td><td style=\"text-align: right;\">               10</td><td style=\"text-align: right;\">      </td><td style=\"text-align: right;\">                </td><td style=\"text-align: right;\">       </td></tr>\n",
              "</tbody>\n",
              "</table><br><br>"
            ],
            "text/plain": [
              "<IPython.core.display.HTML object>"
            ]
          },
          "metadata": {}
        },
        {
          "output_type": "display_data",
          "data": {
            "text/html": [
              "== Status ==<br>Current time: 2022-01-24 15:28:57 (running for 00:01:28.43)<br>Memory usage on this node: 3.5/12.7 GiB<br>Using FIFO scheduling algorithm.<br>Resources requested: 1.0/2 CPUs, 1.0/1 GPUs, 0.0/6.99 GiB heap, 0.0/3.5 GiB objects (0.0/1.0 accelerator_type:K80)<br>Current best trial: 24539_00000 with loss=19.072946548461914 and parameters={'lr': 0.1, 'lr_inner': 0.1, 'num_inner_steps': 3}<br>Result logdir: /root/ray_results/train_model<br>Number of trials: 10/10 (9 PENDING, 1 RUNNING)<br><table>\n",
              "<thead>\n",
              "<tr><th>Trial name             </th><th>status  </th><th>loc            </th><th style=\"text-align: right;\">    lr</th><th style=\"text-align: right;\">  lr_inner</th><th style=\"text-align: right;\">  num_inner_steps</th><th style=\"text-align: right;\">  iter</th><th style=\"text-align: right;\">  total time (s)</th><th style=\"text-align: right;\">   loss</th></tr>\n",
              "</thead>\n",
              "<tbody>\n",
              "<tr><td>train_model_24539_00000</td><td>RUNNING </td><td>172.28.0.2:5510</td><td style=\"text-align: right;\">0.1   </td><td style=\"text-align: right;\">    0.1   </td><td style=\"text-align: right;\">                3</td><td style=\"text-align: right;\">     2</td><td style=\"text-align: right;\">         67.7605</td><td style=\"text-align: right;\">19.0729</td></tr>\n",
              "<tr><td>train_model_24539_00001</td><td>PENDING </td><td>               </td><td style=\"text-align: right;\">0.001 </td><td style=\"text-align: right;\">    0.0001</td><td style=\"text-align: right;\">                5</td><td style=\"text-align: right;\">      </td><td style=\"text-align: right;\">                </td><td style=\"text-align: right;\">       </td></tr>\n",
              "<tr><td>train_model_24539_00002</td><td>PENDING </td><td>               </td><td style=\"text-align: right;\">0.001 </td><td style=\"text-align: right;\">    0.0001</td><td style=\"text-align: right;\">                8</td><td style=\"text-align: right;\">      </td><td style=\"text-align: right;\">                </td><td style=\"text-align: right;\">       </td></tr>\n",
              "<tr><td>train_model_24539_00003</td><td>PENDING </td><td>               </td><td style=\"text-align: right;\">0.0001</td><td style=\"text-align: right;\">    0.1   </td><td style=\"text-align: right;\">                3</td><td style=\"text-align: right;\">      </td><td style=\"text-align: right;\">                </td><td style=\"text-align: right;\">       </td></tr>\n",
              "<tr><td>train_model_24539_00004</td><td>PENDING </td><td>               </td><td style=\"text-align: right;\">0.01  </td><td style=\"text-align: right;\">    0.01  </td><td style=\"text-align: right;\">                3</td><td style=\"text-align: right;\">      </td><td style=\"text-align: right;\">                </td><td style=\"text-align: right;\">       </td></tr>\n",
              "<tr><td>train_model_24539_00005</td><td>PENDING </td><td>               </td><td style=\"text-align: right;\">0.01  </td><td style=\"text-align: right;\">    0.01  </td><td style=\"text-align: right;\">                8</td><td style=\"text-align: right;\">      </td><td style=\"text-align: right;\">                </td><td style=\"text-align: right;\">       </td></tr>\n",
              "<tr><td>train_model_24539_00006</td><td>PENDING </td><td>               </td><td style=\"text-align: right;\">0.001 </td><td style=\"text-align: right;\">    0.0001</td><td style=\"text-align: right;\">               10</td><td style=\"text-align: right;\">      </td><td style=\"text-align: right;\">                </td><td style=\"text-align: right;\">       </td></tr>\n",
              "<tr><td>train_model_24539_00007</td><td>PENDING </td><td>               </td><td style=\"text-align: right;\">0.01  </td><td style=\"text-align: right;\">    0.01  </td><td style=\"text-align: right;\">                8</td><td style=\"text-align: right;\">      </td><td style=\"text-align: right;\">                </td><td style=\"text-align: right;\">       </td></tr>\n",
              "<tr><td>train_model_24539_00008</td><td>PENDING </td><td>               </td><td style=\"text-align: right;\">0.01  </td><td style=\"text-align: right;\">    0.01  </td><td style=\"text-align: right;\">                3</td><td style=\"text-align: right;\">      </td><td style=\"text-align: right;\">                </td><td style=\"text-align: right;\">       </td></tr>\n",
              "<tr><td>train_model_24539_00009</td><td>PENDING </td><td>               </td><td style=\"text-align: right;\">0.01  </td><td style=\"text-align: right;\">    0.1   </td><td style=\"text-align: right;\">               10</td><td style=\"text-align: right;\">      </td><td style=\"text-align: right;\">                </td><td style=\"text-align: right;\">       </td></tr>\n",
              "</tbody>\n",
              "</table><br><br>"
            ],
            "text/plain": [
              "<IPython.core.display.HTML object>"
            ]
          },
          "metadata": {}
        },
        {
          "output_type": "display_data",
          "data": {
            "text/html": [
              "== Status ==<br>Current time: 2022-01-24 15:29:02 (running for 00:01:33.47)<br>Memory usage on this node: 3.5/12.7 GiB<br>Using FIFO scheduling algorithm.<br>Resources requested: 1.0/2 CPUs, 1.0/1 GPUs, 0.0/6.99 GiB heap, 0.0/3.5 GiB objects (0.0/1.0 accelerator_type:K80)<br>Current best trial: 24539_00000 with loss=19.072946548461914 and parameters={'lr': 0.1, 'lr_inner': 0.1, 'num_inner_steps': 3}<br>Result logdir: /root/ray_results/train_model<br>Number of trials: 10/10 (9 PENDING, 1 RUNNING)<br><table>\n",
              "<thead>\n",
              "<tr><th>Trial name             </th><th>status  </th><th>loc            </th><th style=\"text-align: right;\">    lr</th><th style=\"text-align: right;\">  lr_inner</th><th style=\"text-align: right;\">  num_inner_steps</th><th style=\"text-align: right;\">  iter</th><th style=\"text-align: right;\">  total time (s)</th><th style=\"text-align: right;\">   loss</th></tr>\n",
              "</thead>\n",
              "<tbody>\n",
              "<tr><td>train_model_24539_00000</td><td>RUNNING </td><td>172.28.0.2:5510</td><td style=\"text-align: right;\">0.1   </td><td style=\"text-align: right;\">    0.1   </td><td style=\"text-align: right;\">                3</td><td style=\"text-align: right;\">     2</td><td style=\"text-align: right;\">         67.7605</td><td style=\"text-align: right;\">19.0729</td></tr>\n",
              "<tr><td>train_model_24539_00001</td><td>PENDING </td><td>               </td><td style=\"text-align: right;\">0.001 </td><td style=\"text-align: right;\">    0.0001</td><td style=\"text-align: right;\">                5</td><td style=\"text-align: right;\">      </td><td style=\"text-align: right;\">                </td><td style=\"text-align: right;\">       </td></tr>\n",
              "<tr><td>train_model_24539_00002</td><td>PENDING </td><td>               </td><td style=\"text-align: right;\">0.001 </td><td style=\"text-align: right;\">    0.0001</td><td style=\"text-align: right;\">                8</td><td style=\"text-align: right;\">      </td><td style=\"text-align: right;\">                </td><td style=\"text-align: right;\">       </td></tr>\n",
              "<tr><td>train_model_24539_00003</td><td>PENDING </td><td>               </td><td style=\"text-align: right;\">0.0001</td><td style=\"text-align: right;\">    0.1   </td><td style=\"text-align: right;\">                3</td><td style=\"text-align: right;\">      </td><td style=\"text-align: right;\">                </td><td style=\"text-align: right;\">       </td></tr>\n",
              "<tr><td>train_model_24539_00004</td><td>PENDING </td><td>               </td><td style=\"text-align: right;\">0.01  </td><td style=\"text-align: right;\">    0.01  </td><td style=\"text-align: right;\">                3</td><td style=\"text-align: right;\">      </td><td style=\"text-align: right;\">                </td><td style=\"text-align: right;\">       </td></tr>\n",
              "<tr><td>train_model_24539_00005</td><td>PENDING </td><td>               </td><td style=\"text-align: right;\">0.01  </td><td style=\"text-align: right;\">    0.01  </td><td style=\"text-align: right;\">                8</td><td style=\"text-align: right;\">      </td><td style=\"text-align: right;\">                </td><td style=\"text-align: right;\">       </td></tr>\n",
              "<tr><td>train_model_24539_00006</td><td>PENDING </td><td>               </td><td style=\"text-align: right;\">0.001 </td><td style=\"text-align: right;\">    0.0001</td><td style=\"text-align: right;\">               10</td><td style=\"text-align: right;\">      </td><td style=\"text-align: right;\">                </td><td style=\"text-align: right;\">       </td></tr>\n",
              "<tr><td>train_model_24539_00007</td><td>PENDING </td><td>               </td><td style=\"text-align: right;\">0.01  </td><td style=\"text-align: right;\">    0.01  </td><td style=\"text-align: right;\">                8</td><td style=\"text-align: right;\">      </td><td style=\"text-align: right;\">                </td><td style=\"text-align: right;\">       </td></tr>\n",
              "<tr><td>train_model_24539_00008</td><td>PENDING </td><td>               </td><td style=\"text-align: right;\">0.01  </td><td style=\"text-align: right;\">    0.01  </td><td style=\"text-align: right;\">                3</td><td style=\"text-align: right;\">      </td><td style=\"text-align: right;\">                </td><td style=\"text-align: right;\">       </td></tr>\n",
              "<tr><td>train_model_24539_00009</td><td>PENDING </td><td>               </td><td style=\"text-align: right;\">0.01  </td><td style=\"text-align: right;\">    0.1   </td><td style=\"text-align: right;\">               10</td><td style=\"text-align: right;\">      </td><td style=\"text-align: right;\">                </td><td style=\"text-align: right;\">       </td></tr>\n",
              "</tbody>\n",
              "</table><br><br>"
            ],
            "text/plain": [
              "<IPython.core.display.HTML object>"
            ]
          },
          "metadata": {}
        },
        {
          "output_type": "stream",
          "name": "stderr",
          "text": [
            "\u001b[2m\u001b[36m(ImplicitFunc pid=5510)\u001b[0m /usr/local/lib/python3.7/dist-packages/ray/workers/default_worker.py:24: UserWarning: The given NumPy array is not writeable, and PyTorch does not support non-writeable tensors. This means you can write to the underlying (supposedly non-writeable) NumPy array using the tensor. You may want to copy the array to protect its data or make it writeable before converting it to a tensor. This type of warning will be suppressed for the rest of this program. (Triggered internally at  ../torch/csrc/utils/tensor_numpy.cpp:189.)\n",
            "\u001b[2m\u001b[36m(ImplicitFunc pid=5510)\u001b[0m   help=\"the ip address of the worker's node\")\n",
            "\u001b[2m\u001b[36m(ImplicitFunc pid=5510)\u001b[0m /usr/local/lib/python3.7/dist-packages/ray/workers/default_worker.py:24: UserWarning: The given NumPy array is not writeable, and PyTorch does not support non-writeable tensors. This means you can write to the underlying (supposedly non-writeable) NumPy array using the tensor. You may want to copy the array to protect its data or make it writeable before converting it to a tensor. This type of warning will be suppressed for the rest of this program. (Triggered internally at  ../torch/csrc/utils/tensor_numpy.cpp:189.)\n",
            "\u001b[2m\u001b[36m(ImplicitFunc pid=5510)\u001b[0m   help=\"the ip address of the worker's node\")\n"
          ]
        },
        {
          "output_type": "display_data",
          "data": {
            "text/html": [
              "== Status ==<br>Current time: 2022-01-24 15:29:07 (running for 00:01:38.50)<br>Memory usage on this node: 3.3/12.7 GiB<br>Using FIFO scheduling algorithm.<br>Resources requested: 1.0/2 CPUs, 1.0/1 GPUs, 0.0/6.99 GiB heap, 0.0/3.5 GiB objects (0.0/1.0 accelerator_type:K80)<br>Current best trial: 24539_00000 with loss=19.072946548461914 and parameters={'lr': 0.1, 'lr_inner': 0.1, 'num_inner_steps': 3}<br>Result logdir: /root/ray_results/train_model<br>Number of trials: 10/10 (9 PENDING, 1 RUNNING)<br><table>\n",
              "<thead>\n",
              "<tr><th>Trial name             </th><th>status  </th><th>loc            </th><th style=\"text-align: right;\">    lr</th><th style=\"text-align: right;\">  lr_inner</th><th style=\"text-align: right;\">  num_inner_steps</th><th style=\"text-align: right;\">  iter</th><th style=\"text-align: right;\">  total time (s)</th><th style=\"text-align: right;\">   loss</th></tr>\n",
              "</thead>\n",
              "<tbody>\n",
              "<tr><td>train_model_24539_00000</td><td>RUNNING </td><td>172.28.0.2:5510</td><td style=\"text-align: right;\">0.1   </td><td style=\"text-align: right;\">    0.1   </td><td style=\"text-align: right;\">                3</td><td style=\"text-align: right;\">     2</td><td style=\"text-align: right;\">         67.7605</td><td style=\"text-align: right;\">19.0729</td></tr>\n",
              "<tr><td>train_model_24539_00001</td><td>PENDING </td><td>               </td><td style=\"text-align: right;\">0.001 </td><td style=\"text-align: right;\">    0.0001</td><td style=\"text-align: right;\">                5</td><td style=\"text-align: right;\">      </td><td style=\"text-align: right;\">                </td><td style=\"text-align: right;\">       </td></tr>\n",
              "<tr><td>train_model_24539_00002</td><td>PENDING </td><td>               </td><td style=\"text-align: right;\">0.001 </td><td style=\"text-align: right;\">    0.0001</td><td style=\"text-align: right;\">                8</td><td style=\"text-align: right;\">      </td><td style=\"text-align: right;\">                </td><td style=\"text-align: right;\">       </td></tr>\n",
              "<tr><td>train_model_24539_00003</td><td>PENDING </td><td>               </td><td style=\"text-align: right;\">0.0001</td><td style=\"text-align: right;\">    0.1   </td><td style=\"text-align: right;\">                3</td><td style=\"text-align: right;\">      </td><td style=\"text-align: right;\">                </td><td style=\"text-align: right;\">       </td></tr>\n",
              "<tr><td>train_model_24539_00004</td><td>PENDING </td><td>               </td><td style=\"text-align: right;\">0.01  </td><td style=\"text-align: right;\">    0.01  </td><td style=\"text-align: right;\">                3</td><td style=\"text-align: right;\">      </td><td style=\"text-align: right;\">                </td><td style=\"text-align: right;\">       </td></tr>\n",
              "<tr><td>train_model_24539_00005</td><td>PENDING </td><td>               </td><td style=\"text-align: right;\">0.01  </td><td style=\"text-align: right;\">    0.01  </td><td style=\"text-align: right;\">                8</td><td style=\"text-align: right;\">      </td><td style=\"text-align: right;\">                </td><td style=\"text-align: right;\">       </td></tr>\n",
              "<tr><td>train_model_24539_00006</td><td>PENDING </td><td>               </td><td style=\"text-align: right;\">0.001 </td><td style=\"text-align: right;\">    0.0001</td><td style=\"text-align: right;\">               10</td><td style=\"text-align: right;\">      </td><td style=\"text-align: right;\">                </td><td style=\"text-align: right;\">       </td></tr>\n",
              "<tr><td>train_model_24539_00007</td><td>PENDING </td><td>               </td><td style=\"text-align: right;\">0.01  </td><td style=\"text-align: right;\">    0.01  </td><td style=\"text-align: right;\">                8</td><td style=\"text-align: right;\">      </td><td style=\"text-align: right;\">                </td><td style=\"text-align: right;\">       </td></tr>\n",
              "<tr><td>train_model_24539_00008</td><td>PENDING </td><td>               </td><td style=\"text-align: right;\">0.01  </td><td style=\"text-align: right;\">    0.01  </td><td style=\"text-align: right;\">                3</td><td style=\"text-align: right;\">      </td><td style=\"text-align: right;\">                </td><td style=\"text-align: right;\">       </td></tr>\n",
              "<tr><td>train_model_24539_00009</td><td>PENDING </td><td>               </td><td style=\"text-align: right;\">0.01  </td><td style=\"text-align: right;\">    0.1   </td><td style=\"text-align: right;\">               10</td><td style=\"text-align: right;\">      </td><td style=\"text-align: right;\">                </td><td style=\"text-align: right;\">       </td></tr>\n",
              "</tbody>\n",
              "</table><br><br>"
            ],
            "text/plain": [
              "<IPython.core.display.HTML object>"
            ]
          },
          "metadata": {}
        },
        {
          "output_type": "stream",
          "name": "stdout",
          "text": [
            "Result for train_model_24539_00000:\n",
            "  date: 2022-01-24_15-29-11\n",
            "  done: false\n",
            "  experiment_id: 33e8d81ad38b44adbf5bb0778168d613\n",
            "  hostname: dfa2a0b682a2\n",
            "  iterations_since_restore: 3\n",
            "  loss: 16.01274299621582\n",
            "  node_ip: 172.28.0.2\n",
            "  pid: 5510\n",
            "  time_since_restore: 99.3283793926239\n",
            "  time_this_iter_s: 31.567877769470215\n",
            "  time_total_s: 99.3283793926239\n",
            "  timestamp: 1643038151\n",
            "  timesteps_since_restore: 0\n",
            "  training_iteration: 3\n",
            "  trial_id: '24539_00000'\n",
            "  \n"
          ]
        },
        {
          "output_type": "stream",
          "name": "stderr",
          "text": [
            "\u001b[2m\u001b[36m(ImplicitFunc pid=5510)\u001b[0m /usr/local/lib/python3.7/dist-packages/ray/workers/default_worker.py:24: UserWarning: The given NumPy array is not writeable, and PyTorch does not support non-writeable tensors. This means you can write to the underlying (supposedly non-writeable) NumPy array using the tensor. You may want to copy the array to protect its data or make it writeable before converting it to a tensor. This type of warning will be suppressed for the rest of this program. (Triggered internally at  ../torch/csrc/utils/tensor_numpy.cpp:189.)\n",
            "\u001b[2m\u001b[36m(ImplicitFunc pid=5510)\u001b[0m   help=\"the ip address of the worker's node\")\n",
            "\u001b[2m\u001b[36m(ImplicitFunc pid=5510)\u001b[0m /usr/local/lib/python3.7/dist-packages/ray/workers/default_worker.py:24: UserWarning: The given NumPy array is not writeable, and PyTorch does not support non-writeable tensors. This means you can write to the underlying (supposedly non-writeable) NumPy array using the tensor. You may want to copy the array to protect its data or make it writeable before converting it to a tensor. This type of warning will be suppressed for the rest of this program. (Triggered internally at  ../torch/csrc/utils/tensor_numpy.cpp:189.)\n",
            "\u001b[2m\u001b[36m(ImplicitFunc pid=5510)\u001b[0m   help=\"the ip address of the worker's node\")\n"
          ]
        },
        {
          "output_type": "display_data",
          "data": {
            "text/html": [
              "== Status ==<br>Current time: 2022-01-24 15:29:13 (running for 00:01:43.88)<br>Memory usage on this node: 3.3/12.7 GiB<br>Using FIFO scheduling algorithm.<br>Resources requested: 1.0/2 CPUs, 1.0/1 GPUs, 0.0/6.99 GiB heap, 0.0/3.5 GiB objects (0.0/1.0 accelerator_type:K80)<br>Current best trial: 24539_00000 with loss=16.01274299621582 and parameters={'lr': 0.1, 'lr_inner': 0.1, 'num_inner_steps': 3}<br>Result logdir: /root/ray_results/train_model<br>Number of trials: 10/10 (9 PENDING, 1 RUNNING)<br><table>\n",
              "<thead>\n",
              "<tr><th>Trial name             </th><th>status  </th><th>loc            </th><th style=\"text-align: right;\">    lr</th><th style=\"text-align: right;\">  lr_inner</th><th style=\"text-align: right;\">  num_inner_steps</th><th style=\"text-align: right;\">  iter</th><th style=\"text-align: right;\">  total time (s)</th><th style=\"text-align: right;\">   loss</th></tr>\n",
              "</thead>\n",
              "<tbody>\n",
              "<tr><td>train_model_24539_00000</td><td>RUNNING </td><td>172.28.0.2:5510</td><td style=\"text-align: right;\">0.1   </td><td style=\"text-align: right;\">    0.1   </td><td style=\"text-align: right;\">                3</td><td style=\"text-align: right;\">     3</td><td style=\"text-align: right;\">         99.3284</td><td style=\"text-align: right;\">16.0127</td></tr>\n",
              "<tr><td>train_model_24539_00001</td><td>PENDING </td><td>               </td><td style=\"text-align: right;\">0.001 </td><td style=\"text-align: right;\">    0.0001</td><td style=\"text-align: right;\">                5</td><td style=\"text-align: right;\">      </td><td style=\"text-align: right;\">                </td><td style=\"text-align: right;\">       </td></tr>\n",
              "<tr><td>train_model_24539_00002</td><td>PENDING </td><td>               </td><td style=\"text-align: right;\">0.001 </td><td style=\"text-align: right;\">    0.0001</td><td style=\"text-align: right;\">                8</td><td style=\"text-align: right;\">      </td><td style=\"text-align: right;\">                </td><td style=\"text-align: right;\">       </td></tr>\n",
              "<tr><td>train_model_24539_00003</td><td>PENDING </td><td>               </td><td style=\"text-align: right;\">0.0001</td><td style=\"text-align: right;\">    0.1   </td><td style=\"text-align: right;\">                3</td><td style=\"text-align: right;\">      </td><td style=\"text-align: right;\">                </td><td style=\"text-align: right;\">       </td></tr>\n",
              "<tr><td>train_model_24539_00004</td><td>PENDING </td><td>               </td><td style=\"text-align: right;\">0.01  </td><td style=\"text-align: right;\">    0.01  </td><td style=\"text-align: right;\">                3</td><td style=\"text-align: right;\">      </td><td style=\"text-align: right;\">                </td><td style=\"text-align: right;\">       </td></tr>\n",
              "<tr><td>train_model_24539_00005</td><td>PENDING </td><td>               </td><td style=\"text-align: right;\">0.01  </td><td style=\"text-align: right;\">    0.01  </td><td style=\"text-align: right;\">                8</td><td style=\"text-align: right;\">      </td><td style=\"text-align: right;\">                </td><td style=\"text-align: right;\">       </td></tr>\n",
              "<tr><td>train_model_24539_00006</td><td>PENDING </td><td>               </td><td style=\"text-align: right;\">0.001 </td><td style=\"text-align: right;\">    0.0001</td><td style=\"text-align: right;\">               10</td><td style=\"text-align: right;\">      </td><td style=\"text-align: right;\">                </td><td style=\"text-align: right;\">       </td></tr>\n",
              "<tr><td>train_model_24539_00007</td><td>PENDING </td><td>               </td><td style=\"text-align: right;\">0.01  </td><td style=\"text-align: right;\">    0.01  </td><td style=\"text-align: right;\">                8</td><td style=\"text-align: right;\">      </td><td style=\"text-align: right;\">                </td><td style=\"text-align: right;\">       </td></tr>\n",
              "<tr><td>train_model_24539_00008</td><td>PENDING </td><td>               </td><td style=\"text-align: right;\">0.01  </td><td style=\"text-align: right;\">    0.01  </td><td style=\"text-align: right;\">                3</td><td style=\"text-align: right;\">      </td><td style=\"text-align: right;\">                </td><td style=\"text-align: right;\">       </td></tr>\n",
              "<tr><td>train_model_24539_00009</td><td>PENDING </td><td>               </td><td style=\"text-align: right;\">0.01  </td><td style=\"text-align: right;\">    0.1   </td><td style=\"text-align: right;\">               10</td><td style=\"text-align: right;\">      </td><td style=\"text-align: right;\">                </td><td style=\"text-align: right;\">       </td></tr>\n",
              "</tbody>\n",
              "</table><br><br>"
            ],
            "text/plain": [
              "<IPython.core.display.HTML object>"
            ]
          },
          "metadata": {}
        },
        {
          "output_type": "display_data",
          "data": {
            "text/html": [
              "== Status ==<br>Current time: 2022-01-24 15:29:18 (running for 00:01:48.91)<br>Memory usage on this node: 3.3/12.7 GiB<br>Using FIFO scheduling algorithm.<br>Resources requested: 1.0/2 CPUs, 1.0/1 GPUs, 0.0/6.99 GiB heap, 0.0/3.5 GiB objects (0.0/1.0 accelerator_type:K80)<br>Current best trial: 24539_00000 with loss=16.01274299621582 and parameters={'lr': 0.1, 'lr_inner': 0.1, 'num_inner_steps': 3}<br>Result logdir: /root/ray_results/train_model<br>Number of trials: 10/10 (9 PENDING, 1 RUNNING)<br><table>\n",
              "<thead>\n",
              "<tr><th>Trial name             </th><th>status  </th><th>loc            </th><th style=\"text-align: right;\">    lr</th><th style=\"text-align: right;\">  lr_inner</th><th style=\"text-align: right;\">  num_inner_steps</th><th style=\"text-align: right;\">  iter</th><th style=\"text-align: right;\">  total time (s)</th><th style=\"text-align: right;\">   loss</th></tr>\n",
              "</thead>\n",
              "<tbody>\n",
              "<tr><td>train_model_24539_00000</td><td>RUNNING </td><td>172.28.0.2:5510</td><td style=\"text-align: right;\">0.1   </td><td style=\"text-align: right;\">    0.1   </td><td style=\"text-align: right;\">                3</td><td style=\"text-align: right;\">     3</td><td style=\"text-align: right;\">         99.3284</td><td style=\"text-align: right;\">16.0127</td></tr>\n",
              "<tr><td>train_model_24539_00001</td><td>PENDING </td><td>               </td><td style=\"text-align: right;\">0.001 </td><td style=\"text-align: right;\">    0.0001</td><td style=\"text-align: right;\">                5</td><td style=\"text-align: right;\">      </td><td style=\"text-align: right;\">                </td><td style=\"text-align: right;\">       </td></tr>\n",
              "<tr><td>train_model_24539_00002</td><td>PENDING </td><td>               </td><td style=\"text-align: right;\">0.001 </td><td style=\"text-align: right;\">    0.0001</td><td style=\"text-align: right;\">                8</td><td style=\"text-align: right;\">      </td><td style=\"text-align: right;\">                </td><td style=\"text-align: right;\">       </td></tr>\n",
              "<tr><td>train_model_24539_00003</td><td>PENDING </td><td>               </td><td style=\"text-align: right;\">0.0001</td><td style=\"text-align: right;\">    0.1   </td><td style=\"text-align: right;\">                3</td><td style=\"text-align: right;\">      </td><td style=\"text-align: right;\">                </td><td style=\"text-align: right;\">       </td></tr>\n",
              "<tr><td>train_model_24539_00004</td><td>PENDING </td><td>               </td><td style=\"text-align: right;\">0.01  </td><td style=\"text-align: right;\">    0.01  </td><td style=\"text-align: right;\">                3</td><td style=\"text-align: right;\">      </td><td style=\"text-align: right;\">                </td><td style=\"text-align: right;\">       </td></tr>\n",
              "<tr><td>train_model_24539_00005</td><td>PENDING </td><td>               </td><td style=\"text-align: right;\">0.01  </td><td style=\"text-align: right;\">    0.01  </td><td style=\"text-align: right;\">                8</td><td style=\"text-align: right;\">      </td><td style=\"text-align: right;\">                </td><td style=\"text-align: right;\">       </td></tr>\n",
              "<tr><td>train_model_24539_00006</td><td>PENDING </td><td>               </td><td style=\"text-align: right;\">0.001 </td><td style=\"text-align: right;\">    0.0001</td><td style=\"text-align: right;\">               10</td><td style=\"text-align: right;\">      </td><td style=\"text-align: right;\">                </td><td style=\"text-align: right;\">       </td></tr>\n",
              "<tr><td>train_model_24539_00007</td><td>PENDING </td><td>               </td><td style=\"text-align: right;\">0.01  </td><td style=\"text-align: right;\">    0.01  </td><td style=\"text-align: right;\">                8</td><td style=\"text-align: right;\">      </td><td style=\"text-align: right;\">                </td><td style=\"text-align: right;\">       </td></tr>\n",
              "<tr><td>train_model_24539_00008</td><td>PENDING </td><td>               </td><td style=\"text-align: right;\">0.01  </td><td style=\"text-align: right;\">    0.01  </td><td style=\"text-align: right;\">                3</td><td style=\"text-align: right;\">      </td><td style=\"text-align: right;\">                </td><td style=\"text-align: right;\">       </td></tr>\n",
              "<tr><td>train_model_24539_00009</td><td>PENDING </td><td>               </td><td style=\"text-align: right;\">0.01  </td><td style=\"text-align: right;\">    0.1   </td><td style=\"text-align: right;\">               10</td><td style=\"text-align: right;\">      </td><td style=\"text-align: right;\">                </td><td style=\"text-align: right;\">       </td></tr>\n",
              "</tbody>\n",
              "</table><br><br>"
            ],
            "text/plain": [
              "<IPython.core.display.HTML object>"
            ]
          },
          "metadata": {}
        },
        {
          "output_type": "display_data",
          "data": {
            "text/html": [
              "== Status ==<br>Current time: 2022-01-24 15:29:23 (running for 00:01:53.96)<br>Memory usage on this node: 3.3/12.7 GiB<br>Using FIFO scheduling algorithm.<br>Resources requested: 1.0/2 CPUs, 1.0/1 GPUs, 0.0/6.99 GiB heap, 0.0/3.5 GiB objects (0.0/1.0 accelerator_type:K80)<br>Current best trial: 24539_00000 with loss=16.01274299621582 and parameters={'lr': 0.1, 'lr_inner': 0.1, 'num_inner_steps': 3}<br>Result logdir: /root/ray_results/train_model<br>Number of trials: 10/10 (9 PENDING, 1 RUNNING)<br><table>\n",
              "<thead>\n",
              "<tr><th>Trial name             </th><th>status  </th><th>loc            </th><th style=\"text-align: right;\">    lr</th><th style=\"text-align: right;\">  lr_inner</th><th style=\"text-align: right;\">  num_inner_steps</th><th style=\"text-align: right;\">  iter</th><th style=\"text-align: right;\">  total time (s)</th><th style=\"text-align: right;\">   loss</th></tr>\n",
              "</thead>\n",
              "<tbody>\n",
              "<tr><td>train_model_24539_00000</td><td>RUNNING </td><td>172.28.0.2:5510</td><td style=\"text-align: right;\">0.1   </td><td style=\"text-align: right;\">    0.1   </td><td style=\"text-align: right;\">                3</td><td style=\"text-align: right;\">     3</td><td style=\"text-align: right;\">         99.3284</td><td style=\"text-align: right;\">16.0127</td></tr>\n",
              "<tr><td>train_model_24539_00001</td><td>PENDING </td><td>               </td><td style=\"text-align: right;\">0.001 </td><td style=\"text-align: right;\">    0.0001</td><td style=\"text-align: right;\">                5</td><td style=\"text-align: right;\">      </td><td style=\"text-align: right;\">                </td><td style=\"text-align: right;\">       </td></tr>\n",
              "<tr><td>train_model_24539_00002</td><td>PENDING </td><td>               </td><td style=\"text-align: right;\">0.001 </td><td style=\"text-align: right;\">    0.0001</td><td style=\"text-align: right;\">                8</td><td style=\"text-align: right;\">      </td><td style=\"text-align: right;\">                </td><td style=\"text-align: right;\">       </td></tr>\n",
              "<tr><td>train_model_24539_00003</td><td>PENDING </td><td>               </td><td style=\"text-align: right;\">0.0001</td><td style=\"text-align: right;\">    0.1   </td><td style=\"text-align: right;\">                3</td><td style=\"text-align: right;\">      </td><td style=\"text-align: right;\">                </td><td style=\"text-align: right;\">       </td></tr>\n",
              "<tr><td>train_model_24539_00004</td><td>PENDING </td><td>               </td><td style=\"text-align: right;\">0.01  </td><td style=\"text-align: right;\">    0.01  </td><td style=\"text-align: right;\">                3</td><td style=\"text-align: right;\">      </td><td style=\"text-align: right;\">                </td><td style=\"text-align: right;\">       </td></tr>\n",
              "<tr><td>train_model_24539_00005</td><td>PENDING </td><td>               </td><td style=\"text-align: right;\">0.01  </td><td style=\"text-align: right;\">    0.01  </td><td style=\"text-align: right;\">                8</td><td style=\"text-align: right;\">      </td><td style=\"text-align: right;\">                </td><td style=\"text-align: right;\">       </td></tr>\n",
              "<tr><td>train_model_24539_00006</td><td>PENDING </td><td>               </td><td style=\"text-align: right;\">0.001 </td><td style=\"text-align: right;\">    0.0001</td><td style=\"text-align: right;\">               10</td><td style=\"text-align: right;\">      </td><td style=\"text-align: right;\">                </td><td style=\"text-align: right;\">       </td></tr>\n",
              "<tr><td>train_model_24539_00007</td><td>PENDING </td><td>               </td><td style=\"text-align: right;\">0.01  </td><td style=\"text-align: right;\">    0.01  </td><td style=\"text-align: right;\">                8</td><td style=\"text-align: right;\">      </td><td style=\"text-align: right;\">                </td><td style=\"text-align: right;\">       </td></tr>\n",
              "<tr><td>train_model_24539_00008</td><td>PENDING </td><td>               </td><td style=\"text-align: right;\">0.01  </td><td style=\"text-align: right;\">    0.01  </td><td style=\"text-align: right;\">                3</td><td style=\"text-align: right;\">      </td><td style=\"text-align: right;\">                </td><td style=\"text-align: right;\">       </td></tr>\n",
              "<tr><td>train_model_24539_00009</td><td>PENDING </td><td>               </td><td style=\"text-align: right;\">0.01  </td><td style=\"text-align: right;\">    0.1   </td><td style=\"text-align: right;\">               10</td><td style=\"text-align: right;\">      </td><td style=\"text-align: right;\">                </td><td style=\"text-align: right;\">       </td></tr>\n",
              "</tbody>\n",
              "</table><br><br>"
            ],
            "text/plain": [
              "<IPython.core.display.HTML object>"
            ]
          },
          "metadata": {}
        },
        {
          "output_type": "display_data",
          "data": {
            "text/html": [
              "== Status ==<br>Current time: 2022-01-24 15:29:28 (running for 00:01:59.00)<br>Memory usage on this node: 3.3/12.7 GiB<br>Using FIFO scheduling algorithm.<br>Resources requested: 1.0/2 CPUs, 1.0/1 GPUs, 0.0/6.99 GiB heap, 0.0/3.5 GiB objects (0.0/1.0 accelerator_type:K80)<br>Current best trial: 24539_00000 with loss=16.01274299621582 and parameters={'lr': 0.1, 'lr_inner': 0.1, 'num_inner_steps': 3}<br>Result logdir: /root/ray_results/train_model<br>Number of trials: 10/10 (9 PENDING, 1 RUNNING)<br><table>\n",
              "<thead>\n",
              "<tr><th>Trial name             </th><th>status  </th><th>loc            </th><th style=\"text-align: right;\">    lr</th><th style=\"text-align: right;\">  lr_inner</th><th style=\"text-align: right;\">  num_inner_steps</th><th style=\"text-align: right;\">  iter</th><th style=\"text-align: right;\">  total time (s)</th><th style=\"text-align: right;\">   loss</th></tr>\n",
              "</thead>\n",
              "<tbody>\n",
              "<tr><td>train_model_24539_00000</td><td>RUNNING </td><td>172.28.0.2:5510</td><td style=\"text-align: right;\">0.1   </td><td style=\"text-align: right;\">    0.1   </td><td style=\"text-align: right;\">                3</td><td style=\"text-align: right;\">     3</td><td style=\"text-align: right;\">         99.3284</td><td style=\"text-align: right;\">16.0127</td></tr>\n",
              "<tr><td>train_model_24539_00001</td><td>PENDING </td><td>               </td><td style=\"text-align: right;\">0.001 </td><td style=\"text-align: right;\">    0.0001</td><td style=\"text-align: right;\">                5</td><td style=\"text-align: right;\">      </td><td style=\"text-align: right;\">                </td><td style=\"text-align: right;\">       </td></tr>\n",
              "<tr><td>train_model_24539_00002</td><td>PENDING </td><td>               </td><td style=\"text-align: right;\">0.001 </td><td style=\"text-align: right;\">    0.0001</td><td style=\"text-align: right;\">                8</td><td style=\"text-align: right;\">      </td><td style=\"text-align: right;\">                </td><td style=\"text-align: right;\">       </td></tr>\n",
              "<tr><td>train_model_24539_00003</td><td>PENDING </td><td>               </td><td style=\"text-align: right;\">0.0001</td><td style=\"text-align: right;\">    0.1   </td><td style=\"text-align: right;\">                3</td><td style=\"text-align: right;\">      </td><td style=\"text-align: right;\">                </td><td style=\"text-align: right;\">       </td></tr>\n",
              "<tr><td>train_model_24539_00004</td><td>PENDING </td><td>               </td><td style=\"text-align: right;\">0.01  </td><td style=\"text-align: right;\">    0.01  </td><td style=\"text-align: right;\">                3</td><td style=\"text-align: right;\">      </td><td style=\"text-align: right;\">                </td><td style=\"text-align: right;\">       </td></tr>\n",
              "<tr><td>train_model_24539_00005</td><td>PENDING </td><td>               </td><td style=\"text-align: right;\">0.01  </td><td style=\"text-align: right;\">    0.01  </td><td style=\"text-align: right;\">                8</td><td style=\"text-align: right;\">      </td><td style=\"text-align: right;\">                </td><td style=\"text-align: right;\">       </td></tr>\n",
              "<tr><td>train_model_24539_00006</td><td>PENDING </td><td>               </td><td style=\"text-align: right;\">0.001 </td><td style=\"text-align: right;\">    0.0001</td><td style=\"text-align: right;\">               10</td><td style=\"text-align: right;\">      </td><td style=\"text-align: right;\">                </td><td style=\"text-align: right;\">       </td></tr>\n",
              "<tr><td>train_model_24539_00007</td><td>PENDING </td><td>               </td><td style=\"text-align: right;\">0.01  </td><td style=\"text-align: right;\">    0.01  </td><td style=\"text-align: right;\">                8</td><td style=\"text-align: right;\">      </td><td style=\"text-align: right;\">                </td><td style=\"text-align: right;\">       </td></tr>\n",
              "<tr><td>train_model_24539_00008</td><td>PENDING </td><td>               </td><td style=\"text-align: right;\">0.01  </td><td style=\"text-align: right;\">    0.01  </td><td style=\"text-align: right;\">                3</td><td style=\"text-align: right;\">      </td><td style=\"text-align: right;\">                </td><td style=\"text-align: right;\">       </td></tr>\n",
              "<tr><td>train_model_24539_00009</td><td>PENDING </td><td>               </td><td style=\"text-align: right;\">0.01  </td><td style=\"text-align: right;\">    0.1   </td><td style=\"text-align: right;\">               10</td><td style=\"text-align: right;\">      </td><td style=\"text-align: right;\">                </td><td style=\"text-align: right;\">       </td></tr>\n",
              "</tbody>\n",
              "</table><br><br>"
            ],
            "text/plain": [
              "<IPython.core.display.HTML object>"
            ]
          },
          "metadata": {}
        },
        {
          "output_type": "display_data",
          "data": {
            "text/html": [
              "== Status ==<br>Current time: 2022-01-24 15:29:33 (running for 00:02:04.05)<br>Memory usage on this node: 3.3/12.7 GiB<br>Using FIFO scheduling algorithm.<br>Resources requested: 1.0/2 CPUs, 1.0/1 GPUs, 0.0/6.99 GiB heap, 0.0/3.5 GiB objects (0.0/1.0 accelerator_type:K80)<br>Current best trial: 24539_00000 with loss=16.01274299621582 and parameters={'lr': 0.1, 'lr_inner': 0.1, 'num_inner_steps': 3}<br>Result logdir: /root/ray_results/train_model<br>Number of trials: 10/10 (9 PENDING, 1 RUNNING)<br><table>\n",
              "<thead>\n",
              "<tr><th>Trial name             </th><th>status  </th><th>loc            </th><th style=\"text-align: right;\">    lr</th><th style=\"text-align: right;\">  lr_inner</th><th style=\"text-align: right;\">  num_inner_steps</th><th style=\"text-align: right;\">  iter</th><th style=\"text-align: right;\">  total time (s)</th><th style=\"text-align: right;\">   loss</th></tr>\n",
              "</thead>\n",
              "<tbody>\n",
              "<tr><td>train_model_24539_00000</td><td>RUNNING </td><td>172.28.0.2:5510</td><td style=\"text-align: right;\">0.1   </td><td style=\"text-align: right;\">    0.1   </td><td style=\"text-align: right;\">                3</td><td style=\"text-align: right;\">     3</td><td style=\"text-align: right;\">         99.3284</td><td style=\"text-align: right;\">16.0127</td></tr>\n",
              "<tr><td>train_model_24539_00001</td><td>PENDING </td><td>               </td><td style=\"text-align: right;\">0.001 </td><td style=\"text-align: right;\">    0.0001</td><td style=\"text-align: right;\">                5</td><td style=\"text-align: right;\">      </td><td style=\"text-align: right;\">                </td><td style=\"text-align: right;\">       </td></tr>\n",
              "<tr><td>train_model_24539_00002</td><td>PENDING </td><td>               </td><td style=\"text-align: right;\">0.001 </td><td style=\"text-align: right;\">    0.0001</td><td style=\"text-align: right;\">                8</td><td style=\"text-align: right;\">      </td><td style=\"text-align: right;\">                </td><td style=\"text-align: right;\">       </td></tr>\n",
              "<tr><td>train_model_24539_00003</td><td>PENDING </td><td>               </td><td style=\"text-align: right;\">0.0001</td><td style=\"text-align: right;\">    0.1   </td><td style=\"text-align: right;\">                3</td><td style=\"text-align: right;\">      </td><td style=\"text-align: right;\">                </td><td style=\"text-align: right;\">       </td></tr>\n",
              "<tr><td>train_model_24539_00004</td><td>PENDING </td><td>               </td><td style=\"text-align: right;\">0.01  </td><td style=\"text-align: right;\">    0.01  </td><td style=\"text-align: right;\">                3</td><td style=\"text-align: right;\">      </td><td style=\"text-align: right;\">                </td><td style=\"text-align: right;\">       </td></tr>\n",
              "<tr><td>train_model_24539_00005</td><td>PENDING </td><td>               </td><td style=\"text-align: right;\">0.01  </td><td style=\"text-align: right;\">    0.01  </td><td style=\"text-align: right;\">                8</td><td style=\"text-align: right;\">      </td><td style=\"text-align: right;\">                </td><td style=\"text-align: right;\">       </td></tr>\n",
              "<tr><td>train_model_24539_00006</td><td>PENDING </td><td>               </td><td style=\"text-align: right;\">0.001 </td><td style=\"text-align: right;\">    0.0001</td><td style=\"text-align: right;\">               10</td><td style=\"text-align: right;\">      </td><td style=\"text-align: right;\">                </td><td style=\"text-align: right;\">       </td></tr>\n",
              "<tr><td>train_model_24539_00007</td><td>PENDING </td><td>               </td><td style=\"text-align: right;\">0.01  </td><td style=\"text-align: right;\">    0.01  </td><td style=\"text-align: right;\">                8</td><td style=\"text-align: right;\">      </td><td style=\"text-align: right;\">                </td><td style=\"text-align: right;\">       </td></tr>\n",
              "<tr><td>train_model_24539_00008</td><td>PENDING </td><td>               </td><td style=\"text-align: right;\">0.01  </td><td style=\"text-align: right;\">    0.01  </td><td style=\"text-align: right;\">                3</td><td style=\"text-align: right;\">      </td><td style=\"text-align: right;\">                </td><td style=\"text-align: right;\">       </td></tr>\n",
              "<tr><td>train_model_24539_00009</td><td>PENDING </td><td>               </td><td style=\"text-align: right;\">0.01  </td><td style=\"text-align: right;\">    0.1   </td><td style=\"text-align: right;\">               10</td><td style=\"text-align: right;\">      </td><td style=\"text-align: right;\">                </td><td style=\"text-align: right;\">       </td></tr>\n",
              "</tbody>\n",
              "</table><br><br>"
            ],
            "text/plain": [
              "<IPython.core.display.HTML object>"
            ]
          },
          "metadata": {}
        },
        {
          "output_type": "stream",
          "name": "stderr",
          "text": [
            "\u001b[2m\u001b[36m(ImplicitFunc pid=5510)\u001b[0m /usr/local/lib/python3.7/dist-packages/ray/workers/default_worker.py:24: UserWarning: The given NumPy array is not writeable, and PyTorch does not support non-writeable tensors. This means you can write to the underlying (supposedly non-writeable) NumPy array using the tensor. You may want to copy the array to protect its data or make it writeable before converting it to a tensor. This type of warning will be suppressed for the rest of this program. (Triggered internally at  ../torch/csrc/utils/tensor_numpy.cpp:189.)\n",
            "\u001b[2m\u001b[36m(ImplicitFunc pid=5510)\u001b[0m   help=\"the ip address of the worker's node\")\n",
            "\u001b[2m\u001b[36m(ImplicitFunc pid=5510)\u001b[0m /usr/local/lib/python3.7/dist-packages/ray/workers/default_worker.py:24: UserWarning: The given NumPy array is not writeable, and PyTorch does not support non-writeable tensors. This means you can write to the underlying (supposedly non-writeable) NumPy array using the tensor. You may want to copy the array to protect its data or make it writeable before converting it to a tensor. This type of warning will be suppressed for the rest of this program. (Triggered internally at  ../torch/csrc/utils/tensor_numpy.cpp:189.)\n",
            "\u001b[2m\u001b[36m(ImplicitFunc pid=5510)\u001b[0m   help=\"the ip address of the worker's node\")\n"
          ]
        },
        {
          "output_type": "display_data",
          "data": {
            "text/html": [
              "== Status ==<br>Current time: 2022-01-24 15:29:38 (running for 00:02:09.08)<br>Memory usage on this node: 3.3/12.7 GiB<br>Using FIFO scheduling algorithm.<br>Resources requested: 1.0/2 CPUs, 1.0/1 GPUs, 0.0/6.99 GiB heap, 0.0/3.5 GiB objects (0.0/1.0 accelerator_type:K80)<br>Current best trial: 24539_00000 with loss=16.01274299621582 and parameters={'lr': 0.1, 'lr_inner': 0.1, 'num_inner_steps': 3}<br>Result logdir: /root/ray_results/train_model<br>Number of trials: 10/10 (9 PENDING, 1 RUNNING)<br><table>\n",
              "<thead>\n",
              "<tr><th>Trial name             </th><th>status  </th><th>loc            </th><th style=\"text-align: right;\">    lr</th><th style=\"text-align: right;\">  lr_inner</th><th style=\"text-align: right;\">  num_inner_steps</th><th style=\"text-align: right;\">  iter</th><th style=\"text-align: right;\">  total time (s)</th><th style=\"text-align: right;\">   loss</th></tr>\n",
              "</thead>\n",
              "<tbody>\n",
              "<tr><td>train_model_24539_00000</td><td>RUNNING </td><td>172.28.0.2:5510</td><td style=\"text-align: right;\">0.1   </td><td style=\"text-align: right;\">    0.1   </td><td style=\"text-align: right;\">                3</td><td style=\"text-align: right;\">     3</td><td style=\"text-align: right;\">         99.3284</td><td style=\"text-align: right;\">16.0127</td></tr>\n",
              "<tr><td>train_model_24539_00001</td><td>PENDING </td><td>               </td><td style=\"text-align: right;\">0.001 </td><td style=\"text-align: right;\">    0.0001</td><td style=\"text-align: right;\">                5</td><td style=\"text-align: right;\">      </td><td style=\"text-align: right;\">                </td><td style=\"text-align: right;\">       </td></tr>\n",
              "<tr><td>train_model_24539_00002</td><td>PENDING </td><td>               </td><td style=\"text-align: right;\">0.001 </td><td style=\"text-align: right;\">    0.0001</td><td style=\"text-align: right;\">                8</td><td style=\"text-align: right;\">      </td><td style=\"text-align: right;\">                </td><td style=\"text-align: right;\">       </td></tr>\n",
              "<tr><td>train_model_24539_00003</td><td>PENDING </td><td>               </td><td style=\"text-align: right;\">0.0001</td><td style=\"text-align: right;\">    0.1   </td><td style=\"text-align: right;\">                3</td><td style=\"text-align: right;\">      </td><td style=\"text-align: right;\">                </td><td style=\"text-align: right;\">       </td></tr>\n",
              "<tr><td>train_model_24539_00004</td><td>PENDING </td><td>               </td><td style=\"text-align: right;\">0.01  </td><td style=\"text-align: right;\">    0.01  </td><td style=\"text-align: right;\">                3</td><td style=\"text-align: right;\">      </td><td style=\"text-align: right;\">                </td><td style=\"text-align: right;\">       </td></tr>\n",
              "<tr><td>train_model_24539_00005</td><td>PENDING </td><td>               </td><td style=\"text-align: right;\">0.01  </td><td style=\"text-align: right;\">    0.01  </td><td style=\"text-align: right;\">                8</td><td style=\"text-align: right;\">      </td><td style=\"text-align: right;\">                </td><td style=\"text-align: right;\">       </td></tr>\n",
              "<tr><td>train_model_24539_00006</td><td>PENDING </td><td>               </td><td style=\"text-align: right;\">0.001 </td><td style=\"text-align: right;\">    0.0001</td><td style=\"text-align: right;\">               10</td><td style=\"text-align: right;\">      </td><td style=\"text-align: right;\">                </td><td style=\"text-align: right;\">       </td></tr>\n",
              "<tr><td>train_model_24539_00007</td><td>PENDING </td><td>               </td><td style=\"text-align: right;\">0.01  </td><td style=\"text-align: right;\">    0.01  </td><td style=\"text-align: right;\">                8</td><td style=\"text-align: right;\">      </td><td style=\"text-align: right;\">                </td><td style=\"text-align: right;\">       </td></tr>\n",
              "<tr><td>train_model_24539_00008</td><td>PENDING </td><td>               </td><td style=\"text-align: right;\">0.01  </td><td style=\"text-align: right;\">    0.01  </td><td style=\"text-align: right;\">                3</td><td style=\"text-align: right;\">      </td><td style=\"text-align: right;\">                </td><td style=\"text-align: right;\">       </td></tr>\n",
              "<tr><td>train_model_24539_00009</td><td>PENDING </td><td>               </td><td style=\"text-align: right;\">0.01  </td><td style=\"text-align: right;\">    0.1   </td><td style=\"text-align: right;\">               10</td><td style=\"text-align: right;\">      </td><td style=\"text-align: right;\">                </td><td style=\"text-align: right;\">       </td></tr>\n",
              "</tbody>\n",
              "</table><br><br>"
            ],
            "text/plain": [
              "<IPython.core.display.HTML object>"
            ]
          },
          "metadata": {}
        },
        {
          "output_type": "stream",
          "name": "stdout",
          "text": [
            "Result for train_model_24539_00000:\n",
            "  date: 2022-01-24_15-29-42\n",
            "  done: false\n",
            "  experiment_id: 33e8d81ad38b44adbf5bb0778168d613\n",
            "  hostname: dfa2a0b682a2\n",
            "  iterations_since_restore: 4\n",
            "  loss: 14.470976829528809\n",
            "  node_ip: 172.28.0.2\n",
            "  pid: 5510\n",
            "  time_since_restore: 130.98850560188293\n",
            "  time_this_iter_s: 31.660126209259033\n",
            "  time_total_s: 130.98850560188293\n",
            "  timestamp: 1643038182\n",
            "  timesteps_since_restore: 0\n",
            "  training_iteration: 4\n",
            "  trial_id: '24539_00000'\n",
            "  \n"
          ]
        },
        {
          "output_type": "stream",
          "name": "stderr",
          "text": [
            "\u001b[2m\u001b[36m(ImplicitFunc pid=5510)\u001b[0m /usr/local/lib/python3.7/dist-packages/ray/workers/default_worker.py:24: UserWarning: The given NumPy array is not writeable, and PyTorch does not support non-writeable tensors. This means you can write to the underlying (supposedly non-writeable) NumPy array using the tensor. You may want to copy the array to protect its data or make it writeable before converting it to a tensor. This type of warning will be suppressed for the rest of this program. (Triggered internally at  ../torch/csrc/utils/tensor_numpy.cpp:189.)\n",
            "\u001b[2m\u001b[36m(ImplicitFunc pid=5510)\u001b[0m   help=\"the ip address of the worker's node\")\n",
            "\u001b[2m\u001b[36m(ImplicitFunc pid=5510)\u001b[0m /usr/local/lib/python3.7/dist-packages/ray/workers/default_worker.py:24: UserWarning: The given NumPy array is not writeable, and PyTorch does not support non-writeable tensors. This means you can write to the underlying (supposedly non-writeable) NumPy array using the tensor. You may want to copy the array to protect its data or make it writeable before converting it to a tensor. This type of warning will be suppressed for the rest of this program. (Triggered internally at  ../torch/csrc/utils/tensor_numpy.cpp:189.)\n",
            "\u001b[2m\u001b[36m(ImplicitFunc pid=5510)\u001b[0m   help=\"the ip address of the worker's node\")\n"
          ]
        },
        {
          "output_type": "display_data",
          "data": {
            "text/html": [
              "== Status ==<br>Current time: 2022-01-24 15:29:43 (running for 00:02:14.53)<br>Memory usage on this node: 3.3/12.7 GiB<br>Using FIFO scheduling algorithm.<br>Resources requested: 1.0/2 CPUs, 1.0/1 GPUs, 0.0/6.99 GiB heap, 0.0/3.5 GiB objects (0.0/1.0 accelerator_type:K80)<br>Current best trial: 24539_00000 with loss=14.470976829528809 and parameters={'lr': 0.1, 'lr_inner': 0.1, 'num_inner_steps': 3}<br>Result logdir: /root/ray_results/train_model<br>Number of trials: 10/10 (9 PENDING, 1 RUNNING)<br><table>\n",
              "<thead>\n",
              "<tr><th>Trial name             </th><th>status  </th><th>loc            </th><th style=\"text-align: right;\">    lr</th><th style=\"text-align: right;\">  lr_inner</th><th style=\"text-align: right;\">  num_inner_steps</th><th style=\"text-align: right;\">  iter</th><th style=\"text-align: right;\">  total time (s)</th><th style=\"text-align: right;\">  loss</th></tr>\n",
              "</thead>\n",
              "<tbody>\n",
              "<tr><td>train_model_24539_00000</td><td>RUNNING </td><td>172.28.0.2:5510</td><td style=\"text-align: right;\">0.1   </td><td style=\"text-align: right;\">    0.1   </td><td style=\"text-align: right;\">                3</td><td style=\"text-align: right;\">     4</td><td style=\"text-align: right;\">         130.989</td><td style=\"text-align: right;\">14.471</td></tr>\n",
              "<tr><td>train_model_24539_00001</td><td>PENDING </td><td>               </td><td style=\"text-align: right;\">0.001 </td><td style=\"text-align: right;\">    0.0001</td><td style=\"text-align: right;\">                5</td><td style=\"text-align: right;\">      </td><td style=\"text-align: right;\">                </td><td style=\"text-align: right;\">      </td></tr>\n",
              "<tr><td>train_model_24539_00002</td><td>PENDING </td><td>               </td><td style=\"text-align: right;\">0.001 </td><td style=\"text-align: right;\">    0.0001</td><td style=\"text-align: right;\">                8</td><td style=\"text-align: right;\">      </td><td style=\"text-align: right;\">                </td><td style=\"text-align: right;\">      </td></tr>\n",
              "<tr><td>train_model_24539_00003</td><td>PENDING </td><td>               </td><td style=\"text-align: right;\">0.0001</td><td style=\"text-align: right;\">    0.1   </td><td style=\"text-align: right;\">                3</td><td style=\"text-align: right;\">      </td><td style=\"text-align: right;\">                </td><td style=\"text-align: right;\">      </td></tr>\n",
              "<tr><td>train_model_24539_00004</td><td>PENDING </td><td>               </td><td style=\"text-align: right;\">0.01  </td><td style=\"text-align: right;\">    0.01  </td><td style=\"text-align: right;\">                3</td><td style=\"text-align: right;\">      </td><td style=\"text-align: right;\">                </td><td style=\"text-align: right;\">      </td></tr>\n",
              "<tr><td>train_model_24539_00005</td><td>PENDING </td><td>               </td><td style=\"text-align: right;\">0.01  </td><td style=\"text-align: right;\">    0.01  </td><td style=\"text-align: right;\">                8</td><td style=\"text-align: right;\">      </td><td style=\"text-align: right;\">                </td><td style=\"text-align: right;\">      </td></tr>\n",
              "<tr><td>train_model_24539_00006</td><td>PENDING </td><td>               </td><td style=\"text-align: right;\">0.001 </td><td style=\"text-align: right;\">    0.0001</td><td style=\"text-align: right;\">               10</td><td style=\"text-align: right;\">      </td><td style=\"text-align: right;\">                </td><td style=\"text-align: right;\">      </td></tr>\n",
              "<tr><td>train_model_24539_00007</td><td>PENDING </td><td>               </td><td style=\"text-align: right;\">0.01  </td><td style=\"text-align: right;\">    0.01  </td><td style=\"text-align: right;\">                8</td><td style=\"text-align: right;\">      </td><td style=\"text-align: right;\">                </td><td style=\"text-align: right;\">      </td></tr>\n",
              "<tr><td>train_model_24539_00008</td><td>PENDING </td><td>               </td><td style=\"text-align: right;\">0.01  </td><td style=\"text-align: right;\">    0.01  </td><td style=\"text-align: right;\">                3</td><td style=\"text-align: right;\">      </td><td style=\"text-align: right;\">                </td><td style=\"text-align: right;\">      </td></tr>\n",
              "<tr><td>train_model_24539_00009</td><td>PENDING </td><td>               </td><td style=\"text-align: right;\">0.01  </td><td style=\"text-align: right;\">    0.1   </td><td style=\"text-align: right;\">               10</td><td style=\"text-align: right;\">      </td><td style=\"text-align: right;\">                </td><td style=\"text-align: right;\">      </td></tr>\n",
              "</tbody>\n",
              "</table><br><br>"
            ],
            "text/plain": [
              "<IPython.core.display.HTML object>"
            ]
          },
          "metadata": {}
        },
        {
          "output_type": "display_data",
          "data": {
            "text/html": [
              "== Status ==<br>Current time: 2022-01-24 15:29:48 (running for 00:02:19.57)<br>Memory usage on this node: 3.3/12.7 GiB<br>Using FIFO scheduling algorithm.<br>Resources requested: 1.0/2 CPUs, 1.0/1 GPUs, 0.0/6.99 GiB heap, 0.0/3.5 GiB objects (0.0/1.0 accelerator_type:K80)<br>Current best trial: 24539_00000 with loss=14.470976829528809 and parameters={'lr': 0.1, 'lr_inner': 0.1, 'num_inner_steps': 3}<br>Result logdir: /root/ray_results/train_model<br>Number of trials: 10/10 (9 PENDING, 1 RUNNING)<br><table>\n",
              "<thead>\n",
              "<tr><th>Trial name             </th><th>status  </th><th>loc            </th><th style=\"text-align: right;\">    lr</th><th style=\"text-align: right;\">  lr_inner</th><th style=\"text-align: right;\">  num_inner_steps</th><th style=\"text-align: right;\">  iter</th><th style=\"text-align: right;\">  total time (s)</th><th style=\"text-align: right;\">  loss</th></tr>\n",
              "</thead>\n",
              "<tbody>\n",
              "<tr><td>train_model_24539_00000</td><td>RUNNING </td><td>172.28.0.2:5510</td><td style=\"text-align: right;\">0.1   </td><td style=\"text-align: right;\">    0.1   </td><td style=\"text-align: right;\">                3</td><td style=\"text-align: right;\">     4</td><td style=\"text-align: right;\">         130.989</td><td style=\"text-align: right;\">14.471</td></tr>\n",
              "<tr><td>train_model_24539_00001</td><td>PENDING </td><td>               </td><td style=\"text-align: right;\">0.001 </td><td style=\"text-align: right;\">    0.0001</td><td style=\"text-align: right;\">                5</td><td style=\"text-align: right;\">      </td><td style=\"text-align: right;\">                </td><td style=\"text-align: right;\">      </td></tr>\n",
              "<tr><td>train_model_24539_00002</td><td>PENDING </td><td>               </td><td style=\"text-align: right;\">0.001 </td><td style=\"text-align: right;\">    0.0001</td><td style=\"text-align: right;\">                8</td><td style=\"text-align: right;\">      </td><td style=\"text-align: right;\">                </td><td style=\"text-align: right;\">      </td></tr>\n",
              "<tr><td>train_model_24539_00003</td><td>PENDING </td><td>               </td><td style=\"text-align: right;\">0.0001</td><td style=\"text-align: right;\">    0.1   </td><td style=\"text-align: right;\">                3</td><td style=\"text-align: right;\">      </td><td style=\"text-align: right;\">                </td><td style=\"text-align: right;\">      </td></tr>\n",
              "<tr><td>train_model_24539_00004</td><td>PENDING </td><td>               </td><td style=\"text-align: right;\">0.01  </td><td style=\"text-align: right;\">    0.01  </td><td style=\"text-align: right;\">                3</td><td style=\"text-align: right;\">      </td><td style=\"text-align: right;\">                </td><td style=\"text-align: right;\">      </td></tr>\n",
              "<tr><td>train_model_24539_00005</td><td>PENDING </td><td>               </td><td style=\"text-align: right;\">0.01  </td><td style=\"text-align: right;\">    0.01  </td><td style=\"text-align: right;\">                8</td><td style=\"text-align: right;\">      </td><td style=\"text-align: right;\">                </td><td style=\"text-align: right;\">      </td></tr>\n",
              "<tr><td>train_model_24539_00006</td><td>PENDING </td><td>               </td><td style=\"text-align: right;\">0.001 </td><td style=\"text-align: right;\">    0.0001</td><td style=\"text-align: right;\">               10</td><td style=\"text-align: right;\">      </td><td style=\"text-align: right;\">                </td><td style=\"text-align: right;\">      </td></tr>\n",
              "<tr><td>train_model_24539_00007</td><td>PENDING </td><td>               </td><td style=\"text-align: right;\">0.01  </td><td style=\"text-align: right;\">    0.01  </td><td style=\"text-align: right;\">                8</td><td style=\"text-align: right;\">      </td><td style=\"text-align: right;\">                </td><td style=\"text-align: right;\">      </td></tr>\n",
              "<tr><td>train_model_24539_00008</td><td>PENDING </td><td>               </td><td style=\"text-align: right;\">0.01  </td><td style=\"text-align: right;\">    0.01  </td><td style=\"text-align: right;\">                3</td><td style=\"text-align: right;\">      </td><td style=\"text-align: right;\">                </td><td style=\"text-align: right;\">      </td></tr>\n",
              "<tr><td>train_model_24539_00009</td><td>PENDING </td><td>               </td><td style=\"text-align: right;\">0.01  </td><td style=\"text-align: right;\">    0.1   </td><td style=\"text-align: right;\">               10</td><td style=\"text-align: right;\">      </td><td style=\"text-align: right;\">                </td><td style=\"text-align: right;\">      </td></tr>\n",
              "</tbody>\n",
              "</table><br><br>"
            ],
            "text/plain": [
              "<IPython.core.display.HTML object>"
            ]
          },
          "metadata": {}
        },
        {
          "output_type": "display_data",
          "data": {
            "text/html": [
              "== Status ==<br>Current time: 2022-01-24 15:29:53 (running for 00:02:24.62)<br>Memory usage on this node: 3.3/12.7 GiB<br>Using FIFO scheduling algorithm.<br>Resources requested: 1.0/2 CPUs, 1.0/1 GPUs, 0.0/6.99 GiB heap, 0.0/3.5 GiB objects (0.0/1.0 accelerator_type:K80)<br>Current best trial: 24539_00000 with loss=14.470976829528809 and parameters={'lr': 0.1, 'lr_inner': 0.1, 'num_inner_steps': 3}<br>Result logdir: /root/ray_results/train_model<br>Number of trials: 10/10 (9 PENDING, 1 RUNNING)<br><table>\n",
              "<thead>\n",
              "<tr><th>Trial name             </th><th>status  </th><th>loc            </th><th style=\"text-align: right;\">    lr</th><th style=\"text-align: right;\">  lr_inner</th><th style=\"text-align: right;\">  num_inner_steps</th><th style=\"text-align: right;\">  iter</th><th style=\"text-align: right;\">  total time (s)</th><th style=\"text-align: right;\">  loss</th></tr>\n",
              "</thead>\n",
              "<tbody>\n",
              "<tr><td>train_model_24539_00000</td><td>RUNNING </td><td>172.28.0.2:5510</td><td style=\"text-align: right;\">0.1   </td><td style=\"text-align: right;\">    0.1   </td><td style=\"text-align: right;\">                3</td><td style=\"text-align: right;\">     4</td><td style=\"text-align: right;\">         130.989</td><td style=\"text-align: right;\">14.471</td></tr>\n",
              "<tr><td>train_model_24539_00001</td><td>PENDING </td><td>               </td><td style=\"text-align: right;\">0.001 </td><td style=\"text-align: right;\">    0.0001</td><td style=\"text-align: right;\">                5</td><td style=\"text-align: right;\">      </td><td style=\"text-align: right;\">                </td><td style=\"text-align: right;\">      </td></tr>\n",
              "<tr><td>train_model_24539_00002</td><td>PENDING </td><td>               </td><td style=\"text-align: right;\">0.001 </td><td style=\"text-align: right;\">    0.0001</td><td style=\"text-align: right;\">                8</td><td style=\"text-align: right;\">      </td><td style=\"text-align: right;\">                </td><td style=\"text-align: right;\">      </td></tr>\n",
              "<tr><td>train_model_24539_00003</td><td>PENDING </td><td>               </td><td style=\"text-align: right;\">0.0001</td><td style=\"text-align: right;\">    0.1   </td><td style=\"text-align: right;\">                3</td><td style=\"text-align: right;\">      </td><td style=\"text-align: right;\">                </td><td style=\"text-align: right;\">      </td></tr>\n",
              "<tr><td>train_model_24539_00004</td><td>PENDING </td><td>               </td><td style=\"text-align: right;\">0.01  </td><td style=\"text-align: right;\">    0.01  </td><td style=\"text-align: right;\">                3</td><td style=\"text-align: right;\">      </td><td style=\"text-align: right;\">                </td><td style=\"text-align: right;\">      </td></tr>\n",
              "<tr><td>train_model_24539_00005</td><td>PENDING </td><td>               </td><td style=\"text-align: right;\">0.01  </td><td style=\"text-align: right;\">    0.01  </td><td style=\"text-align: right;\">                8</td><td style=\"text-align: right;\">      </td><td style=\"text-align: right;\">                </td><td style=\"text-align: right;\">      </td></tr>\n",
              "<tr><td>train_model_24539_00006</td><td>PENDING </td><td>               </td><td style=\"text-align: right;\">0.001 </td><td style=\"text-align: right;\">    0.0001</td><td style=\"text-align: right;\">               10</td><td style=\"text-align: right;\">      </td><td style=\"text-align: right;\">                </td><td style=\"text-align: right;\">      </td></tr>\n",
              "<tr><td>train_model_24539_00007</td><td>PENDING </td><td>               </td><td style=\"text-align: right;\">0.01  </td><td style=\"text-align: right;\">    0.01  </td><td style=\"text-align: right;\">                8</td><td style=\"text-align: right;\">      </td><td style=\"text-align: right;\">                </td><td style=\"text-align: right;\">      </td></tr>\n",
              "<tr><td>train_model_24539_00008</td><td>PENDING </td><td>               </td><td style=\"text-align: right;\">0.01  </td><td style=\"text-align: right;\">    0.01  </td><td style=\"text-align: right;\">                3</td><td style=\"text-align: right;\">      </td><td style=\"text-align: right;\">                </td><td style=\"text-align: right;\">      </td></tr>\n",
              "<tr><td>train_model_24539_00009</td><td>PENDING </td><td>               </td><td style=\"text-align: right;\">0.01  </td><td style=\"text-align: right;\">    0.1   </td><td style=\"text-align: right;\">               10</td><td style=\"text-align: right;\">      </td><td style=\"text-align: right;\">                </td><td style=\"text-align: right;\">      </td></tr>\n",
              "</tbody>\n",
              "</table><br><br>"
            ],
            "text/plain": [
              "<IPython.core.display.HTML object>"
            ]
          },
          "metadata": {}
        },
        {
          "output_type": "display_data",
          "data": {
            "text/html": [
              "== Status ==<br>Current time: 2022-01-24 15:29:58 (running for 00:02:29.66)<br>Memory usage on this node: 3.3/12.7 GiB<br>Using FIFO scheduling algorithm.<br>Resources requested: 1.0/2 CPUs, 1.0/1 GPUs, 0.0/6.99 GiB heap, 0.0/3.5 GiB objects (0.0/1.0 accelerator_type:K80)<br>Current best trial: 24539_00000 with loss=14.470976829528809 and parameters={'lr': 0.1, 'lr_inner': 0.1, 'num_inner_steps': 3}<br>Result logdir: /root/ray_results/train_model<br>Number of trials: 10/10 (9 PENDING, 1 RUNNING)<br><table>\n",
              "<thead>\n",
              "<tr><th>Trial name             </th><th>status  </th><th>loc            </th><th style=\"text-align: right;\">    lr</th><th style=\"text-align: right;\">  lr_inner</th><th style=\"text-align: right;\">  num_inner_steps</th><th style=\"text-align: right;\">  iter</th><th style=\"text-align: right;\">  total time (s)</th><th style=\"text-align: right;\">  loss</th></tr>\n",
              "</thead>\n",
              "<tbody>\n",
              "<tr><td>train_model_24539_00000</td><td>RUNNING </td><td>172.28.0.2:5510</td><td style=\"text-align: right;\">0.1   </td><td style=\"text-align: right;\">    0.1   </td><td style=\"text-align: right;\">                3</td><td style=\"text-align: right;\">     4</td><td style=\"text-align: right;\">         130.989</td><td style=\"text-align: right;\">14.471</td></tr>\n",
              "<tr><td>train_model_24539_00001</td><td>PENDING </td><td>               </td><td style=\"text-align: right;\">0.001 </td><td style=\"text-align: right;\">    0.0001</td><td style=\"text-align: right;\">                5</td><td style=\"text-align: right;\">      </td><td style=\"text-align: right;\">                </td><td style=\"text-align: right;\">      </td></tr>\n",
              "<tr><td>train_model_24539_00002</td><td>PENDING </td><td>               </td><td style=\"text-align: right;\">0.001 </td><td style=\"text-align: right;\">    0.0001</td><td style=\"text-align: right;\">                8</td><td style=\"text-align: right;\">      </td><td style=\"text-align: right;\">                </td><td style=\"text-align: right;\">      </td></tr>\n",
              "<tr><td>train_model_24539_00003</td><td>PENDING </td><td>               </td><td style=\"text-align: right;\">0.0001</td><td style=\"text-align: right;\">    0.1   </td><td style=\"text-align: right;\">                3</td><td style=\"text-align: right;\">      </td><td style=\"text-align: right;\">                </td><td style=\"text-align: right;\">      </td></tr>\n",
              "<tr><td>train_model_24539_00004</td><td>PENDING </td><td>               </td><td style=\"text-align: right;\">0.01  </td><td style=\"text-align: right;\">    0.01  </td><td style=\"text-align: right;\">                3</td><td style=\"text-align: right;\">      </td><td style=\"text-align: right;\">                </td><td style=\"text-align: right;\">      </td></tr>\n",
              "<tr><td>train_model_24539_00005</td><td>PENDING </td><td>               </td><td style=\"text-align: right;\">0.01  </td><td style=\"text-align: right;\">    0.01  </td><td style=\"text-align: right;\">                8</td><td style=\"text-align: right;\">      </td><td style=\"text-align: right;\">                </td><td style=\"text-align: right;\">      </td></tr>\n",
              "<tr><td>train_model_24539_00006</td><td>PENDING </td><td>               </td><td style=\"text-align: right;\">0.001 </td><td style=\"text-align: right;\">    0.0001</td><td style=\"text-align: right;\">               10</td><td style=\"text-align: right;\">      </td><td style=\"text-align: right;\">                </td><td style=\"text-align: right;\">      </td></tr>\n",
              "<tr><td>train_model_24539_00007</td><td>PENDING </td><td>               </td><td style=\"text-align: right;\">0.01  </td><td style=\"text-align: right;\">    0.01  </td><td style=\"text-align: right;\">                8</td><td style=\"text-align: right;\">      </td><td style=\"text-align: right;\">                </td><td style=\"text-align: right;\">      </td></tr>\n",
              "<tr><td>train_model_24539_00008</td><td>PENDING </td><td>               </td><td style=\"text-align: right;\">0.01  </td><td style=\"text-align: right;\">    0.01  </td><td style=\"text-align: right;\">                3</td><td style=\"text-align: right;\">      </td><td style=\"text-align: right;\">                </td><td style=\"text-align: right;\">      </td></tr>\n",
              "<tr><td>train_model_24539_00009</td><td>PENDING </td><td>               </td><td style=\"text-align: right;\">0.01  </td><td style=\"text-align: right;\">    0.1   </td><td style=\"text-align: right;\">               10</td><td style=\"text-align: right;\">      </td><td style=\"text-align: right;\">                </td><td style=\"text-align: right;\">      </td></tr>\n",
              "</tbody>\n",
              "</table><br><br>"
            ],
            "text/plain": [
              "<IPython.core.display.HTML object>"
            ]
          },
          "metadata": {}
        },
        {
          "output_type": "display_data",
          "data": {
            "text/html": [
              "== Status ==<br>Current time: 2022-01-24 15:30:04 (running for 00:02:34.71)<br>Memory usage on this node: 3.3/12.7 GiB<br>Using FIFO scheduling algorithm.<br>Resources requested: 1.0/2 CPUs, 1.0/1 GPUs, 0.0/6.99 GiB heap, 0.0/3.5 GiB objects (0.0/1.0 accelerator_type:K80)<br>Current best trial: 24539_00000 with loss=14.470976829528809 and parameters={'lr': 0.1, 'lr_inner': 0.1, 'num_inner_steps': 3}<br>Result logdir: /root/ray_results/train_model<br>Number of trials: 10/10 (9 PENDING, 1 RUNNING)<br><table>\n",
              "<thead>\n",
              "<tr><th>Trial name             </th><th>status  </th><th>loc            </th><th style=\"text-align: right;\">    lr</th><th style=\"text-align: right;\">  lr_inner</th><th style=\"text-align: right;\">  num_inner_steps</th><th style=\"text-align: right;\">  iter</th><th style=\"text-align: right;\">  total time (s)</th><th style=\"text-align: right;\">  loss</th></tr>\n",
              "</thead>\n",
              "<tbody>\n",
              "<tr><td>train_model_24539_00000</td><td>RUNNING </td><td>172.28.0.2:5510</td><td style=\"text-align: right;\">0.1   </td><td style=\"text-align: right;\">    0.1   </td><td style=\"text-align: right;\">                3</td><td style=\"text-align: right;\">     4</td><td style=\"text-align: right;\">         130.989</td><td style=\"text-align: right;\">14.471</td></tr>\n",
              "<tr><td>train_model_24539_00001</td><td>PENDING </td><td>               </td><td style=\"text-align: right;\">0.001 </td><td style=\"text-align: right;\">    0.0001</td><td style=\"text-align: right;\">                5</td><td style=\"text-align: right;\">      </td><td style=\"text-align: right;\">                </td><td style=\"text-align: right;\">      </td></tr>\n",
              "<tr><td>train_model_24539_00002</td><td>PENDING </td><td>               </td><td style=\"text-align: right;\">0.001 </td><td style=\"text-align: right;\">    0.0001</td><td style=\"text-align: right;\">                8</td><td style=\"text-align: right;\">      </td><td style=\"text-align: right;\">                </td><td style=\"text-align: right;\">      </td></tr>\n",
              "<tr><td>train_model_24539_00003</td><td>PENDING </td><td>               </td><td style=\"text-align: right;\">0.0001</td><td style=\"text-align: right;\">    0.1   </td><td style=\"text-align: right;\">                3</td><td style=\"text-align: right;\">      </td><td style=\"text-align: right;\">                </td><td style=\"text-align: right;\">      </td></tr>\n",
              "<tr><td>train_model_24539_00004</td><td>PENDING </td><td>               </td><td style=\"text-align: right;\">0.01  </td><td style=\"text-align: right;\">    0.01  </td><td style=\"text-align: right;\">                3</td><td style=\"text-align: right;\">      </td><td style=\"text-align: right;\">                </td><td style=\"text-align: right;\">      </td></tr>\n",
              "<tr><td>train_model_24539_00005</td><td>PENDING </td><td>               </td><td style=\"text-align: right;\">0.01  </td><td style=\"text-align: right;\">    0.01  </td><td style=\"text-align: right;\">                8</td><td style=\"text-align: right;\">      </td><td style=\"text-align: right;\">                </td><td style=\"text-align: right;\">      </td></tr>\n",
              "<tr><td>train_model_24539_00006</td><td>PENDING </td><td>               </td><td style=\"text-align: right;\">0.001 </td><td style=\"text-align: right;\">    0.0001</td><td style=\"text-align: right;\">               10</td><td style=\"text-align: right;\">      </td><td style=\"text-align: right;\">                </td><td style=\"text-align: right;\">      </td></tr>\n",
              "<tr><td>train_model_24539_00007</td><td>PENDING </td><td>               </td><td style=\"text-align: right;\">0.01  </td><td style=\"text-align: right;\">    0.01  </td><td style=\"text-align: right;\">                8</td><td style=\"text-align: right;\">      </td><td style=\"text-align: right;\">                </td><td style=\"text-align: right;\">      </td></tr>\n",
              "<tr><td>train_model_24539_00008</td><td>PENDING </td><td>               </td><td style=\"text-align: right;\">0.01  </td><td style=\"text-align: right;\">    0.01  </td><td style=\"text-align: right;\">                3</td><td style=\"text-align: right;\">      </td><td style=\"text-align: right;\">                </td><td style=\"text-align: right;\">      </td></tr>\n",
              "<tr><td>train_model_24539_00009</td><td>PENDING </td><td>               </td><td style=\"text-align: right;\">0.01  </td><td style=\"text-align: right;\">    0.1   </td><td style=\"text-align: right;\">               10</td><td style=\"text-align: right;\">      </td><td style=\"text-align: right;\">                </td><td style=\"text-align: right;\">      </td></tr>\n",
              "</tbody>\n",
              "</table><br><br>"
            ],
            "text/plain": [
              "<IPython.core.display.HTML object>"
            ]
          },
          "metadata": {}
        }
      ]
    }
  ],
  "metadata": {
    "accelerator": "GPU",
    "colab": {
      "collapsed_sections": [],
      "name": "maml_hyperparameter_tuning.ipynb",
      "provenance": [],
      "include_colab_link": true
    },
    "kernelspec": {
      "display_name": "Python 3",
      "name": "python3"
    },
    "language_info": {
      "name": "python"
    }
  },
  "nbformat": 4,
  "nbformat_minor": 0
}